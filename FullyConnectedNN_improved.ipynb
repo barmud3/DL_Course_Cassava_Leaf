{
 "cells": [
  {
   "cell_type": "markdown",
   "id": "f588498b-2c2a-4c55-ab96-a96fbee0c073",
   "metadata": {},
   "source": [
    "**Import Libraries**"
   ]
  },
  {
   "cell_type": "code",
   "execution_count": 1,
   "id": "07955719-35bb-47be-9251-96053cfb9624",
   "metadata": {},
   "outputs": [],
   "source": [
    "import os\n",
    "import copy\n",
    "import numpy as np\n",
    "import pandas as pd\n",
    "from PIL import Image\n",
    "\n",
    "from sklearn.model_selection import train_test_split\n",
    "from sklearn.preprocessing import LabelEncoder\n",
    "from sklearn.metrics import accuracy_score, classification_report, f1_score\n",
    "from sklearn.utils.class_weight import compute_class_weight\n",
    "\n",
    "import torch\n",
    "import torch.nn as nn\n",
    "import torch.optim as optim\n",
    "from torch.utils.data import Dataset, DataLoader\n",
    "\n",
    "import matplotlib.pyplot as plt"
   ]
  },
  {
   "cell_type": "markdown",
   "id": "9a98b13a-75ce-407c-9fef-329b19af5587",
   "metadata": {},
   "source": [
    "**Load and Preprocess Data**"
   ]
  },
  {
   "cell_type": "code",
   "execution_count": 2,
   "id": "01310cd7-d956-4c32-875b-7a3a4357d0df",
   "metadata": {
    "tags": []
   },
   "outputs": [
    {
     "name": "stdout",
     "output_type": "stream",
     "text": [
      "Class distribution (number of samples per class):\n",
      "  Class '3': 13158 samples\n",
      "  Class '4': 2577 samples\n",
      "  Class '2': 2386 samples\n",
      "  Class '1': 2189 samples\n",
      "  Class '0': 1087 samples\n"
     ]
    }
   ],
   "source": [
    "def load_images_from_csv(data_dir, csv_path, image_size=(50, 50), limit=None):\n",
    "    \n",
    "    df = pd.read_csv(csv_path)\n",
    "    if limit is not None:\n",
    "        df = df.head(limit)\n",
    "\n",
    "    all_images = []\n",
    "    all_labels = []\n",
    "\n",
    "    for _, row in df.iterrows():\n",
    "        image_id = row['image_id']\n",
    "        label = row['label']\n",
    "\n",
    "        # Load image via PIL\n",
    "        img_path = os.path.join(data_dir, 'train_images', image_id)\n",
    "        with Image.open(img_path) as pil_img:\n",
    "\n",
    "            pil_img = pil_img.convert('RGB')\n",
    "            pil_img = pil_img.resize(image_size, Image.BILINEAR)\n",
    "\n",
    "            img_np = np.array(pil_img)\n",
    "            img_np_flat = img_np.flatten()\n",
    "\n",
    "            all_images.append(img_np_flat)\n",
    "            all_labels.append(label)\n",
    "\n",
    "    X = np.array(all_images)\n",
    "    y = np.array(all_labels)\n",
    "    \n",
    "    class_counts = pd.Series(y).value_counts()\n",
    "    \n",
    "    print(\"Class distribution (number of samples per class):\")\n",
    "    for label, count in class_counts.items():\n",
    "        print(f\"  Class '{label}': {count} samples\")\n",
    "        \n",
    "    return X, y\n",
    "\n",
    "data_dir = '.'\n",
    "csv_path = os.path.join(data_dir, 'train.csv')\n",
    "IMAGE_SIZE = (64, 64)\n",
    "\n",
    "X, y = load_images_from_csv(\n",
    "    data_dir=data_dir, \n",
    "    csv_path=csv_path, \n",
    "    image_size=IMAGE_SIZE, \n",
    ")"
   ]
  },
  {
   "cell_type": "markdown",
   "id": "29529005-6124-4864-8ce8-ec6a429f45ab",
   "metadata": {},
   "source": [
    "**Encode Labels**"
   ]
  },
  {
   "cell_type": "code",
   "execution_count": 3,
   "id": "1ed56915-1e30-4387-9a7e-a8d45da3d0e4",
   "metadata": {
    "tags": []
   },
   "outputs": [],
   "source": [
    "label_encoder = LabelEncoder()\n",
    "y_encoded = label_encoder.fit_transform(y)\n",
    "class_names = label_encoder.classes_"
   ]
  },
  {
   "cell_type": "markdown",
   "id": "6f774a4c-a507-4532-b25e-e58f2f759e08",
   "metadata": {},
   "source": [
    "**Split Data**"
   ]
  },
  {
   "cell_type": "code",
   "execution_count": 4,
   "id": "fbfd8c8b-8b89-47ba-94c4-24808877e368",
   "metadata": {},
   "outputs": [],
   "source": [
    "# First split into train + (validation + test)\n",
    "X_train, X_temp, y_train, y_temp = train_test_split(X, y_encoded, test_size=0.4, random_state=42)\n",
    "\n",
    "# Then split (validation + test) into validation and test\n",
    "X_val, X_test, y_val, y_test = train_test_split(X_temp, y_temp, test_size=0.5, random_state=42) "
   ]
  },
  {
   "cell_type": "markdown",
   "id": "945b41d8-0c09-43fe-b903-cdc2213fdb03",
   "metadata": {},
   "source": [
    "**Compute Class Weights**"
   ]
  },
  {
   "cell_type": "code",
   "execution_count": 5,
   "id": "e3a17cbc-f71e-4d52-9967-660ddb7edcff",
   "metadata": {},
   "outputs": [
    {
     "name": "stdout",
     "output_type": "stream",
     "text": [
      "Class weights: tensor([3.8962, 1.9161, 1.7396, 0.3292, 1.6417], device='cuda:0')\n"
     ]
    }
   ],
   "source": [
    "class_weights = compute_class_weight('balanced', classes=np.unique(y_train), y=y_train)\n",
    "class_weights = torch.tensor(class_weights, dtype=torch.float).to('cuda' if torch.cuda.is_available() else 'cpu')\n",
    "\n",
    "print(\"Class weights:\", class_weights)"
   ]
  },
  {
   "cell_type": "markdown",
   "id": "59cde291-75b7-40f3-93f7-2a4c4b00a27b",
   "metadata": {},
   "source": [
    "**Normalize**"
   ]
  },
  {
   "cell_type": "code",
   "execution_count": 6,
   "id": "71f4c2e3-26ec-453c-a5f0-71087f7fa7b4",
   "metadata": {},
   "outputs": [],
   "source": [
    "# Calculate mean and standard deviation from the training group\n",
    "train_mean = X_train.mean(axis=0)\n",
    "train_std = X_train.std(axis=0)\n",
    "\n",
    "# Normalize the training data\n",
    "X_train_normalized = (X_train - train_mean) / train_std\n",
    "\n",
    "# Apply the same normalization to the validation and test datasets\n",
    "X_val_normalized = (X_val - train_mean) / train_std\n",
    "X_test_normalized = (X_test - train_mean) / train_std"
   ]
  },
  {
   "cell_type": "markdown",
   "id": "369f4570-0c9d-4fcb-8998-f2538749d245",
   "metadata": {},
   "source": [
    "**Prepare Data for PyTorch**"
   ]
  },
  {
   "cell_type": "code",
   "execution_count": 7,
   "id": "397787e6-de02-4c3c-9625-735176d843fa",
   "metadata": {},
   "outputs": [],
   "source": [
    "# Convert to tensors\n",
    "X_train_tensor = torch.tensor(X_train_normalized, dtype=torch.float32)\n",
    "y_train_tensor = torch.tensor(y_train, dtype=torch.long)\n",
    "\n",
    "X_val_tensor = torch.tensor(X_val_normalized, dtype=torch.float32)\n",
    "y_val_tensor = torch.tensor(y_val, dtype=torch.long)\n",
    "\n",
    "X_test_tensor = torch.tensor(X_test_normalized, dtype=torch.float32)\n",
    "y_test_tensor = torch.tensor(y_test, dtype=torch.long)\n",
    "\n",
    "\n",
    "class ImageDataset(Dataset):\n",
    "    def __init__(self, X, y):\n",
    "        self.X = X\n",
    "        self.y = y\n",
    "\n",
    "    def __len__(self):\n",
    "        return len(self.X)\n",
    "\n",
    "    def __getitem__(self, idx):\n",
    "        return self.X[idx], self.y[idx]\n",
    "\n",
    "train_dataset = ImageDataset(X_train_tensor, y_train_tensor)\n",
    "val_dataset = ImageDataset(X_val_tensor, y_val_tensor)\n",
    "test_dataset = ImageDataset(X_test_tensor, y_test_tensor)\n",
    "\n",
    "batch_size = 64\n",
    "train_loader = DataLoader(train_dataset, batch_size=batch_size, shuffle=True)\n",
    "val_loader = DataLoader(val_dataset, batch_size=batch_size, shuffle=False)\n",
    "test_loader = DataLoader(test_dataset, batch_size=batch_size, shuffle=False)"
   ]
  },
  {
   "cell_type": "markdown",
   "id": "7256a786-be2e-4a67-a10e-830d433f52f4",
   "metadata": {},
   "source": [
    "**Define the Model**"
   ]
  },
  {
   "cell_type": "code",
   "execution_count": 8,
   "id": "6eb31a0d-3232-41b2-8e28-c57562d322ce",
   "metadata": {},
   "outputs": [],
   "source": [
    "class FullyConnectedNN(nn.Module):\n",
    "    \n",
    "    def __init__(self, input_dim, num_classes, hidden_dim=256, dropout_prob=0.2):\n",
    "        super(FullyConnectedNN, self).__init__()\n",
    "        self.fc1 = nn.Linear(input_dim, hidden_dim)    # First fully connected layer\n",
    "        self.relu = nn.ReLU()                          # ReLU activation\n",
    "        self.dropout = nn.Dropout(p=dropout_prob)      # Dropout with probability p\n",
    "        self.fc2 = nn.Linear(hidden_dim, num_classes)  # Second fully connected layer\n",
    "\n",
    "    def forward(self, x):\n",
    "        out = self.fc1(x)          # Linear transformation\n",
    "        out = self.relu(out)       # Apply ReLU activation\n",
    "        out = self.dropout(out)    # Apply Dropout\n",
    "        out = self.fc2(out)        # Linear transformation to output\n",
    "        return out\n",
    "\n",
    "input_dim = 64 * 64 * 3       # Number of input features\n",
    "num_classes = len(class_names)  # Number of output classes\n",
    "model = FullyConnectedNN(input_dim, num_classes)"
   ]
  },
  {
   "cell_type": "markdown",
   "id": "260c1c3b-d5f9-4176-a07b-681ddbf00240",
   "metadata": {},
   "source": [
    "**Train the Model**"
   ]
  },
  {
   "cell_type": "code",
   "execution_count": 9,
   "id": "cad3d8ac-e1e4-450b-acb2-9cc6399bf55a",
   "metadata": {
    "jp-MarkdownHeadingCollapsed": true,
    "tags": []
   },
   "outputs": [
    {
     "name": "stdout",
     "output_type": "stream",
     "text": [
      "Epoch 1/50, Train Loss: 6.2055, Train Acc: 22.89%\n",
      "Epoch 2/50, Train Loss: 2.7876, Train Acc: 26.19%\n",
      "Epoch 3/50, Train Loss: 2.4306, Train Acc: 28.30%\n",
      "Epoch 4/50, Train Loss: 2.3020, Train Acc: 29.30%\n",
      "Epoch 5/50, Train Loss: 2.2477, Train Acc: 32.95%\n",
      "Epoch 6/50, Train Loss: 2.2477, Train Acc: 31.31%\n",
      "Epoch 7/50, Train Loss: 2.1858, Train Acc: 35.63%\n",
      "Epoch 8/50, Train Loss: 2.2016, Train Acc: 34.37%\n",
      "Epoch 9/50, Train Loss: 2.1385, Train Acc: 35.35%\n",
      "Epoch 10/50, Train Loss: 2.1204, Train Acc: 36.41%\n",
      "Epoch 11/50, Train Loss: 2.1242, Train Acc: 34.60%\n",
      "Epoch 12/50, Train Loss: 2.1018, Train Acc: 37.58%\n",
      "Epoch 13/50, Train Loss: 2.0912, Train Acc: 36.06%\n",
      "Epoch 14/50, Train Loss: 2.0888, Train Acc: 37.24%\n",
      "Epoch 15/50, Train Loss: 2.0808, Train Acc: 35.24%\n",
      "Epoch 16/50, Train Loss: 2.0825, Train Acc: 36.95%\n",
      "Epoch 17/50, Train Loss: 2.0739, Train Acc: 36.45%\n",
      "Epoch 18/50, Train Loss: 2.0633, Train Acc: 35.69%\n",
      "Epoch 19/50, Train Loss: 2.0757, Train Acc: 31.80%\n",
      "Epoch 20/50, Train Loss: 2.0626, Train Acc: 38.15%\n",
      "Epoch 21/50, Train Loss: 2.0831, Train Acc: 38.00%\n",
      "Epoch 22/50, Train Loss: 2.0399, Train Acc: 37.03%\n",
      "Epoch 23/50, Train Loss: 2.0641, Train Acc: 34.13%\n",
      "Epoch 24/50, Train Loss: 2.0975, Train Acc: 35.08%\n",
      "Epoch 25/50, Train Loss: 2.0728, Train Acc: 36.50%\n",
      "Epoch 26/50, Train Loss: 2.0624, Train Acc: 36.98%\n",
      "Epoch 27/50, Train Loss: 2.0849, Train Acc: 35.26%\n",
      "Early stopping triggered after 27 epochs\n"
     ]
    }
   ],
   "source": [
    "def train(model, train_loader, val_loader, num_epochs=50, learning_rate=0.01, patience=5, alpha=0.001):\n",
    "    device = torch.device(\"cuda\" if torch.cuda.is_available() else \"cpu\")\n",
    "    model.to(device)\n",
    "\n",
    "    criterion = nn.CrossEntropyLoss()\n",
    "    optimizer = optim.Adam(model.parameters(), lr=learning_rate)\n",
    "    scheduler = optim.lr_scheduler.ReduceLROnPlateau(\n",
    "        optimizer, mode='min', factor=0.5, patience=3, verbose=True\n",
    "    )\n",
    "\n",
    "    train_losses, val_losses = [], []\n",
    "    train_accs, val_accs = [], []\n",
    "\n",
    "    best_val_loss = float('inf')\n",
    "    best_model_state = None\n",
    "    no_improve_count = 0\n",
    "\n",
    "    for epoch in range(num_epochs):\n",
    "        model.train()\n",
    "        running_loss, correct, total = 0.0, 0, 0\n",
    "\n",
    "        for inputs, labels in train_loader:\n",
    "            inputs, labels = inputs.to(device), labels.to(device)\n",
    "\n",
    "            optimizer.zero_grad()\n",
    "            outputs = model(inputs)\n",
    "            loss_ce = criterion(outputs, labels)\n",
    "\n",
    "            # L1 regularization\n",
    "            l1_penalty = torch.tensor(0., requires_grad=True).to(device)\n",
    "            for name, param in model.named_parameters():\n",
    "                if \"weight\" in name and \"bn\" not in name:  # Exclude biases and BatchNorm parameters\n",
    "                    l1_penalty += torch.norm(param, p=1)\n",
    "\n",
    "            # Total loss\n",
    "            total_loss = loss_ce + alpha * l1_penalty\n",
    "\n",
    "            total_loss.backward()\n",
    "            \n",
    "            # Add gradient clipping\n",
    "            torch.nn.utils.clip_grad_norm_(model.parameters(), max_norm=1.0)\n",
    "            \n",
    "            optimizer.step()\n",
    "            \n",
    "\n",
    "            running_loss += total_loss.item()\n",
    "            _, predicted = outputs.max(1)\n",
    "            total += labels.size(0)\n",
    "            correct += predicted.eq(labels).sum().item()\n",
    "\n",
    "        train_losses.append(running_loss / len(train_loader))\n",
    "        train_accs.append(100. * correct / total)\n",
    "\n",
    "        model.eval()\n",
    "        val_loss, correct, total = 0.0, 0, 0\n",
    "\n",
    "        with torch.no_grad():\n",
    "            for inputs, labels in val_loader:\n",
    "                inputs, labels = inputs.to(device), labels.to(device)\n",
    "                outputs = model(inputs)\n",
    "                loss_ce = criterion(outputs, labels)\n",
    "\n",
    "                # L1 regularization in validation\n",
    "                l1_penalty = torch.tensor(0., requires_grad=False).to(device)\n",
    "                for name, param in model.named_parameters():\n",
    "                    if \"weight\" in name and \"bn\" not in name:  # Exclude biases and BatchNorm parameters\n",
    "                        l1_penalty += torch.norm(param, p=1)\n",
    "\n",
    "                total_loss = loss_ce + alpha * l1_penalty\n",
    "                val_loss += total_loss.item()\n",
    "\n",
    "                _, predicted = outputs.max(1)\n",
    "                total += labels.size(0)\n",
    "                correct += predicted.eq(labels).sum().item()\n",
    "\n",
    "        val_losses.append(val_loss / len(val_loader))\n",
    "        val_accs.append(100. * correct / total)\n",
    "        \n",
    "        # Learning rate scheduling\n",
    "        scheduler.step(val_loss)\n",
    "\n",
    "        print(f\"Epoch {epoch+1}/{num_epochs}, Train Loss: {train_losses[-1]:.4f}, Train Acc: {train_accs[-1]:.2f}%\")\n",
    "\n",
    "        # Early stopping mechanism\n",
    "        if val_losses[-1] < best_val_loss:\n",
    "            best_val_loss = val_losses[-1]\n",
    "            best_model_state = copy.deepcopy(model.state_dict())\n",
    "            # best_model_state = model.state_dict().copy()\n",
    "            no_improve_count = 0\n",
    "        else:\n",
    "            no_improve_count += 1\n",
    "\n",
    "        if no_improve_count >= patience:\n",
    "            print(f\"Early stopping triggered after {epoch+1} epochs\")\n",
    "            break\n",
    "\n",
    "    # Restore the best model\n",
    "    if best_model_state is not None:\n",
    "        model.load_state_dict(best_model_state)\n",
    "\n",
    "    return train_losses, val_losses, train_accs, val_accs\n",
    "\n",
    "\n",
    "train_losses, val_losses, train_accs, val_accs = train(model, train_loader, val_loader, num_epochs=50, learning_rate=0.001)"
   ]
  },
  {
   "cell_type": "markdown",
   "id": "630c601d-93c0-4456-a476-7ce8ba23057f",
   "metadata": {},
   "source": [
    "**Visualize Metrics**"
   ]
  },
  {
   "cell_type": "code",
   "execution_count": 10,
   "id": "e3122992-cb67-4123-a9ea-6a03f9837c35",
   "metadata": {},
   "outputs": [
    {
     "data": {
      "image/png": "[encoded data removed]",
      "text/plain": [
       "<Figure size 800x400 with 1 Axes>"
      ]
     },
     "metadata": {},
     "output_type": "display_data"
    }
   ],
   "source": [
    "def plot_loss(train_losses, val_losses):\n",
    "    \n",
    "    epochs = range(1, len(train_losses) + 1)\n",
    "\n",
    "    plt.figure(figsize=(8, 4))\n",
    "    plt.plot(epochs, train_losses, label='Train Loss')\n",
    "    plt.plot(epochs, val_losses, label='Validation Loss')\n",
    "    plt.xlabel('Epochs')\n",
    "    plt.ylabel('Loss')\n",
    "    plt.title('Loss Curve')\n",
    "    plt.legend()\n",
    "    plt.show()\n",
    "\n",
    "plot_loss(train_losses, val_losses)"
   ]
  },
  {
   "cell_type": "markdown",
   "id": "b974f727-735c-4b31-92a2-a90adbb49ae8",
   "metadata": {},
   "source": [
    "**Evaluate the Model**"
   ]
  },
  {
   "cell_type": "code",
   "execution_count": 11,
   "id": "69dc9679-ab5b-45de-9513-40f6f992186a",
   "metadata": {
    "tags": []
   },
   "outputs": [
    {
     "name": "stdout",
     "output_type": "stream",
     "text": [
      "Training Accuracy: 0.444\n",
      "Test Accuracy: 0.449\n",
      "F1 Score: 0.469\n",
      "Classification Report:\n",
      "              precision    recall  f1-score   support\n",
      "\n",
      "           0       0.18      0.45      0.26       212\n",
      "           1       0.15      0.11      0.13       424\n",
      "           2       0.15      0.17      0.16       437\n",
      "           3       0.71      0.60      0.65      2715\n",
      "           4       0.12      0.16      0.14       492\n",
      "\n",
      "    accuracy                           0.45      4280\n",
      "   macro avg       0.26      0.30      0.27      4280\n",
      "weighted avg       0.50      0.45      0.47      4280\n",
      "\n"
     ]
    }
   ],
   "source": [
    "def evaluate(model, loader):\n",
    "    \n",
    "    device = torch.device(\"cuda\" if torch.cuda.is_available() else \"cpu\")\n",
    "    model.eval()\n",
    "\n",
    "    all_preds, all_labels = [], []\n",
    "    with torch.no_grad():\n",
    "        for inputs, labels in loader:\n",
    "            inputs, labels = inputs.to(device), labels.to(device)\n",
    "            outputs = model(inputs)\n",
    "            _, predicted = outputs.max(1)\n",
    "            all_preds.extend(predicted.cpu().numpy())\n",
    "            all_labels.extend(labels.cpu().numpy())\n",
    "\n",
    "    return np.array(all_labels), np.array(all_preds)\n",
    "\n",
    "# Convert class_names to strings\n",
    "class_names = [str(name) for name in label_encoder.classes_]\n",
    "\n",
    "# Evaluate on train set\n",
    "y_train_true, y_train_pred = evaluate(model, train_loader)\n",
    "\n",
    "# Evaluate on test set\n",
    "y_test_true, y_test_pred = evaluate(model, test_loader)\n",
    "\n",
    "# Print metrics\n",
    "accuracy_train = accuracy_score(y_train_true, y_train_pred)\n",
    "accuracy_test = accuracy_score(y_test_true, y_test_pred)\n",
    "f1_test = f1_score(y_test_true, y_test_pred, average='weighted')\n",
    "\n",
    "print(f'Training Accuracy: {accuracy_train:.3f}')\n",
    "print(f'Test Accuracy: {accuracy_test:.3f}')\n",
    "print(f'F1 Score: {f1_test:.3f}')\n",
    "print(\"Classification Report:\")\n",
    "print(classification_report(y_test_true, y_test_pred, target_names=class_names, zero_division=0))"
   ]
  },
  {
   "cell_type": "code",
   "execution_count": null,
   "id": "e34df874-5c81-46c4-a5d9-a79261a267b1",
   "metadata": {},
   "outputs": [],
   "source": []
  }
 ],
 "metadata": {
  "kernelspec": {
   "display_name": "Python 3 (ipykernel)",
   "language": "python",
   "name": "python3"
  },
  "language_info": {
   "codemirror_mode": {
    "name": "ipython",
    "version": 3
   },
   "file_extension": ".py",
   "mimetype": "text/x-python",
   "name": "python",
   "nbconvert_exporter": "python",
   "pygments_lexer": "ipython3",
   "version": "3.11.7"
  }
 },
 "nbformat": 4,
 "nbformat_minor": 5
}
