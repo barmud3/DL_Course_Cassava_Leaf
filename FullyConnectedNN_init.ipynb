{
 "cells": [
  {
   "cell_type": "markdown",
   "id": "2a82f5ba-b7fc-4076-8c10-023d71d9eb6c",
   "metadata": {},
   "source": [
    "**Import Libraries**"
   ]
  },
  {
   "cell_type": "code",
   "execution_count": 1,
   "id": "6d3b3415-ef4f-43e0-bbfe-1060cf70ed67",
   "metadata": {},
   "outputs": [],
   "source": [
    "import os\n",
    "import numpy as np\n",
    "import pandas as pd\n",
    "from PIL import Image\n",
    "\n",
    "from sklearn.model_selection import train_test_split\n",
    "from sklearn.preprocessing import LabelEncoder\n",
    "from sklearn.metrics import accuracy_score, classification_report, f1_score\n",
    "from sklearn.utils.class_weight import compute_class_weight\n",
    "\n",
    "import torch\n",
    "import torch.nn as nn\n",
    "from torch.utils.data import Dataset, DataLoader\n",
    "\n",
    "import matplotlib.pyplot as plt"
   ]
  },
  {
   "cell_type": "markdown",
   "id": "066af138-b0af-41c5-90b9-51ac2a1aa394",
   "metadata": {},
   "source": [
    "**Load and Preprocess Data**"
   ]
  },
  {
   "cell_type": "code",
   "execution_count": 2,
   "id": "32702516-f9d2-429d-b9ea-5591218b398c",
   "metadata": {},
   "outputs": [
    {
     "name": "stdout",
     "output_type": "stream",
     "text": [
      "Class distribution (number of samples per class):\n",
      "  Class '3': 13158 samples\n",
      "  Class '4': 2577 samples\n",
      "  Class '2': 2386 samples\n",
      "  Class '1': 2189 samples\n",
      "  Class '0': 1087 samples\n"
     ]
    }
   ],
   "source": [
    "def load_images_from_csv(data_dir, csv_path, image_size=(50, 50), limit=None):\n",
    "    df = pd.read_csv(csv_path)\n",
    "    if limit is not None:\n",
    "        df = df.head(limit)\n",
    "\n",
    "    all_images = []\n",
    "    all_labels = []\n",
    "\n",
    "    for _, row in df.iterrows():\n",
    "        image_id = row['image_id']\n",
    "        label = row['label']\n",
    "\n",
    "        img_path = os.path.join(data_dir, 'train_images', image_id)\n",
    "        with Image.open(img_path) as pil_img:\n",
    "            pil_img = pil_img.convert('RGB')\n",
    "            pil_img = pil_img.resize(image_size, Image.BILINEAR)\n",
    "                \n",
    "            img_np = np.array(pil_img)\n",
    "            img_np_flat = img_np.flatten()  # shape: (H*W*3,)\n",
    "            \n",
    "            all_images.append(img_np)\n",
    "            all_labels.append(label)\n",
    "\n",
    "    X = np.array(all_images)\n",
    "    y = np.array(all_labels)\n",
    "\n",
    "    class_counts = pd.Series(y).value_counts()\n",
    "    \n",
    "    print(\"Class distribution (number of samples per class):\")\n",
    "    for label, count in class_counts.items():\n",
    "        print(f\"  Class '{label}': {count} samples\")\n",
    "\n",
    "    return X, y\n",
    "\n",
    "# Set paths and parameters\n",
    "data_dir = '.'\n",
    "csv_path = os.path.join(data_dir, 'train.csv')\n",
    "IMAGE_SIZE = (32, 32)\n",
    "\n",
    "# Load data\n",
    "X, y = load_images_from_csv(data_dir=data_dir, csv_path=csv_path, image_size=IMAGE_SIZE)"
   ]
  },
  {
   "cell_type": "markdown",
   "id": "c7c42678-7504-41a0-a01c-f9b43c3c443a",
   "metadata": {},
   "source": [
    "**Encode Labels**"
   ]
  },
  {
   "cell_type": "code",
   "execution_count": 3,
   "id": "473f0e0b-c764-4aec-ac99-c0a835d6a06a",
   "metadata": {
    "tags": []
   },
   "outputs": [],
   "source": [
    "label_encoder = LabelEncoder()\n",
    "y_encoded = label_encoder.fit_transform(y)\n",
    "class_names = label_encoder.classes_\n",
    "\n",
    "# Normalize pixel values to [0, 1]\n",
    "X = X / 255.0"
   ]
  },
  {
   "cell_type": "markdown",
   "id": "9037fd1b-372d-4a94-9b32-f7b8f6696928",
   "metadata": {
    "tags": []
   },
   "source": [
    "**Split Data**"
   ]
  },
  {
   "cell_type": "code",
   "execution_count": 4,
   "id": "dcee05b7-7a6b-4967-bd07-c39562b73ccb",
   "metadata": {},
   "outputs": [],
   "source": [
    "# First split into train + (validation + test)\n",
    "X_train, X_temp, y_train, y_temp = train_test_split(X, y_encoded, test_size=0.4, random_state=42)\n",
    "\n",
    "# Then split (validation + test) into validation and test\n",
    "X_val, X_test, y_val, y_test = train_test_split(X_temp, y_temp, test_size=0.5, random_state=42) "
   ]
  },
  {
   "cell_type": "markdown",
   "id": "f8fb0061-63eb-418b-ba9c-5a9e42c6d875",
   "metadata": {},
   "source": [
    "**Compute Class Weights**"
   ]
  },
  {
   "cell_type": "code",
   "execution_count": 5,
   "id": "9ca3a285-827a-4379-b10d-bd745b9923a2",
   "metadata": {},
   "outputs": [
    {
     "name": "stdout",
     "output_type": "stream",
     "text": [
      "Class weights: tensor([3.8962, 1.9161, 1.7396, 0.3292, 1.6417], device='cuda:0')\n"
     ]
    }
   ],
   "source": [
    "class_weights = compute_class_weight('balanced', classes=np.unique(y_train), y=y_train)\n",
    "class_weights = torch.tensor(class_weights, dtype=torch.float).to('cuda' if torch.cuda.is_available() else 'cpu')\n",
    "\n",
    "print(\"Class weights:\", class_weights)"
   ]
  },
  {
   "cell_type": "markdown",
   "id": "098e503a-f699-40bb-bd1f-04edf9e50e0b",
   "metadata": {},
   "source": [
    "**Prepare Data for PyTorch**"
   ]
  },
  {
   "cell_type": "code",
   "execution_count": 6,
   "id": "edcd8884-c301-4220-be92-716dd312ad9f",
   "metadata": {},
   "outputs": [],
   "source": [
    "# Convert to tensors\n",
    "X_train_tensor = torch.tensor(X_train, dtype=torch.float32)\n",
    "y_train_tensor = torch.tensor(y_train, dtype=torch.long)\n",
    "\n",
    "X_val_tensor = torch.tensor(X_val, dtype=torch.float32)\n",
    "y_val_tensor = torch.tensor(y_val, dtype=torch.long)\n",
    "\n",
    "X_test_tensor = torch.tensor(X_test, dtype=torch.float32)\n",
    "y_test_tensor = torch.tensor(y_test, dtype=torch.long)\n",
    "\n",
    "class ImageDataset(Dataset):\n",
    "    \n",
    "    def __init__(self, X, y):\n",
    "        self.X = X\n",
    "        self.y = y\n",
    "\n",
    "    def __len__(self):\n",
    "        return len(self.X)\n",
    "\n",
    "    def __getitem__(self, idx):\n",
    "        return self.X[idx], self.y[idx]\n",
    "\n",
    "train_dataset = ImageDataset(X_train_tensor, y_train_tensor)\n",
    "val_dataset = ImageDataset(X_val_tensor, y_val_tensor)\n",
    "test_dataset = ImageDataset(X_test_tensor, y_test_tensor)\n",
    "\n",
    "batch_size = 64\n",
    "train_loader = DataLoader(train_dataset, batch_size=batch_size, shuffle=True)\n",
    "val_loader = DataLoader(val_dataset, batch_size=batch_size, shuffle=False)\n",
    "test_loader = DataLoader(test_dataset, batch_size=batch_size, shuffle=False)"
   ]
  },
  {
   "cell_type": "markdown",
   "id": "a410ca33-e4b9-4951-8382-ec328a54072f",
   "metadata": {},
   "source": [
    "**Define the Model**"
   ]
  },
  {
   "cell_type": "code",
   "execution_count": 7,
   "id": "6eb31a0d-3232-41b2-8e28-c57562d322ce",
   "metadata": {},
   "outputs": [],
   "source": [
    "class FullyConnectedNN(nn.Module):\n",
    "    \n",
    "    def __init__(self, input_dim, num_classes, hidden_dim=256):\n",
    "        super(FullyConnectedNN, self).__init__()\n",
    "        self.fc1 = nn.Linear(input_dim, hidden_dim)\n",
    "        self.relu = nn.ReLU()\n",
    "        self.fc2 = nn.Linear(hidden_dim, num_classes)\n",
    "\n",
    "    def forward(self, x):\n",
    "        x = x.view(x.size(0), -1)\n",
    "        out = self.fc1(x)\n",
    "        out = self.relu(out)\n",
    "        out = self.fc2(out)\n",
    "        return out\n",
    "\n",
    "input_dim = 32 * 32 * 3\n",
    "num_classes = len(class_names)\n",
    "model = FullyConnectedNN(input_dim, num_classes)"
   ]
  },
  {
   "cell_type": "markdown",
   "id": "e1932a5a-aa26-4893-8dae-eae335ff218b",
   "metadata": {},
   "source": [
    "**Train the Model**"
   ]
  },
  {
   "cell_type": "code",
   "execution_count": 8,
   "id": "b6908338-5404-44e6-9884-b1003ec2235f",
   "metadata": {},
   "outputs": [
    {
     "name": "stdout",
     "output_type": "stream",
     "text": [
      "Epoch 1/50, Train Loss: 1.6055, Train Acc: 27.03%\n",
      "Epoch 2/50, Train Loss: 1.5997, Train Acc: 33.16%\n",
      "Epoch 3/50, Train Loss: 1.5957, Train Acc: 30.00%\n",
      "Epoch 4/50, Train Loss: 1.5913, Train Acc: 37.01%\n",
      "Epoch 5/50, Train Loss: 1.5874, Train Acc: 32.20%\n",
      "Epoch 6/50, Train Loss: 1.5847, Train Acc: 29.15%\n",
      "Epoch 7/50, Train Loss: 1.5807, Train Acc: 30.48%\n",
      "Epoch 8/50, Train Loss: 1.5774, Train Acc: 28.96%\n",
      "Epoch 9/50, Train Loss: 1.5746, Train Acc: 29.72%\n",
      "Epoch 10/50, Train Loss: 1.5715, Train Acc: 29.46%\n",
      "Epoch 11/50, Train Loss: 1.5686, Train Acc: 30.55%\n",
      "Epoch 12/50, Train Loss: 1.5658, Train Acc: 30.58%\n",
      "Epoch 13/50, Train Loss: 1.5630, Train Acc: 30.38%\n",
      "Epoch 14/50, Train Loss: 1.5604, Train Acc: 32.22%\n",
      "Epoch 15/50, Train Loss: 1.5582, Train Acc: 29.60%\n",
      "Epoch 16/50, Train Loss: 1.5548, Train Acc: 31.17%\n",
      "Epoch 17/50, Train Loss: 1.5536, Train Acc: 29.38%\n",
      "Epoch 18/50, Train Loss: 1.5513, Train Acc: 30.74%\n",
      "Epoch 19/50, Train Loss: 1.5493, Train Acc: 30.48%\n",
      "Epoch 20/50, Train Loss: 1.5475, Train Acc: 30.52%\n",
      "Epoch 21/50, Train Loss: 1.5448, Train Acc: 30.16%\n",
      "Epoch 22/50, Train Loss: 1.5426, Train Acc: 30.79%\n",
      "Epoch 23/50, Train Loss: 1.5414, Train Acc: 29.90%\n",
      "Epoch 24/50, Train Loss: 1.5398, Train Acc: 32.05%\n",
      "Epoch 25/50, Train Loss: 1.5375, Train Acc: 30.54%\n",
      "Epoch 26/50, Train Loss: 1.5355, Train Acc: 31.17%\n",
      "Epoch 27/50, Train Loss: 1.5336, Train Acc: 30.72%\n",
      "Epoch 28/50, Train Loss: 1.5326, Train Acc: 30.74%\n",
      "Epoch 29/50, Train Loss: 1.5310, Train Acc: 32.09%\n",
      "Epoch 30/50, Train Loss: 1.5292, Train Acc: 31.55%\n",
      "Epoch 31/50, Train Loss: 1.5274, Train Acc: 32.79%\n",
      "Epoch 32/50, Train Loss: 1.5269, Train Acc: 30.25%\n",
      "Epoch 33/50, Train Loss: 1.5243, Train Acc: 31.79%\n",
      "Epoch 34/50, Train Loss: 1.5235, Train Acc: 31.17%\n",
      "Epoch 35/50, Train Loss: 1.5204, Train Acc: 31.15%\n",
      "Epoch 36/50, Train Loss: 1.5199, Train Acc: 31.71%\n",
      "Epoch 37/50, Train Loss: 1.5176, Train Acc: 31.90%\n",
      "Epoch 38/50, Train Loss: 1.5172, Train Acc: 31.10%\n",
      "Epoch 39/50, Train Loss: 1.5148, Train Acc: 31.98%\n",
      "Epoch 40/50, Train Loss: 1.5133, Train Acc: 31.17%\n",
      "Epoch 41/50, Train Loss: 1.5113, Train Acc: 33.34%\n",
      "Epoch 42/50, Train Loss: 1.5106, Train Acc: 33.09%\n",
      "Epoch 43/50, Train Loss: 1.5091, Train Acc: 31.44%\n",
      "Epoch 44/50, Train Loss: 1.5074, Train Acc: 33.48%\n",
      "Epoch 45/50, Train Loss: 1.5056, Train Acc: 31.91%\n",
      "Epoch 46/50, Train Loss: 1.5043, Train Acc: 31.94%\n",
      "Epoch 47/50, Train Loss: 1.5030, Train Acc: 33.27%\n",
      "Epoch 48/50, Train Loss: 1.5016, Train Acc: 32.47%\n",
      "Epoch 49/50, Train Loss: 1.4999, Train Acc: 33.22%\n",
      "Epoch 50/50, Train Loss: 1.4984, Train Acc: 33.07%\n"
     ]
    }
   ],
   "source": [
    "def train(model, train_loader, val_loader, num_epochs=50, learning_rate=0.01):\n",
    "    \n",
    "    device = torch.device(\"cuda\" if torch.cuda.is_available() else \"cpu\")\n",
    "    model.to(device)\n",
    "\n",
    "    criterion = nn.CrossEntropyLoss(weight=class_weights)\n",
    "    \n",
    "    train_losses, val_losses = [], []\n",
    "    train_accs, val_accs = [], []\n",
    "    \n",
    "    for epoch in range(num_epochs):\n",
    "        model.train()\n",
    "        running_loss, correct, total = 0.0, 0, 0\n",
    "\n",
    "        for inputs, labels in train_loader:\n",
    "            inputs, labels = inputs.to(device), labels.to(device)\n",
    "\n",
    "            outputs = model(inputs)\n",
    "            loss_ce = criterion(outputs, labels)\n",
    "\n",
    "            # Total loss\n",
    "            total_loss = loss_ce\n",
    "            \n",
    "            # Zero gradients\n",
    "            model.zero_grad()\n",
    "\n",
    "            # Backward pass\n",
    "            total_loss.backward()  # Compute gradients\n",
    "\n",
    "            # Manually update parameters\n",
    "            with torch.no_grad():\n",
    "                for param in model.parameters():\n",
    "                    param -= learning_rate * param.grad.detach()  # Gradient descent step\n",
    "\n",
    "            # Track training loss and accuracy\n",
    "            running_loss += total_loss.item()\n",
    "            _, predicted = torch.max(outputs, 1)\n",
    "            total += labels.size(0)\n",
    "            correct += (predicted == labels).sum().item()\n",
    "\n",
    "        avg_train_loss = running_loss / len(train_loader)\n",
    "        train_acc = correct / total\n",
    "        train_losses.append(avg_train_loss)\n",
    "        train_accs.append(train_acc)\n",
    "\n",
    "        # Validation phase\n",
    "        model.eval()\n",
    "        val_loss, correct, total = 0.0, 0, 0\n",
    "        with torch.no_grad():\n",
    "            for inputs, labels in val_loader:\n",
    "                inputs, labels = inputs.to(device), labels.to(device)\n",
    "                outputs = model(inputs)\n",
    "                loss_ce = criterion(outputs, labels)\n",
    "                val_loss += loss_ce.item()\n",
    "                _, predicted = torch.max(outputs, 1)\n",
    "                total += labels.size(0)\n",
    "                correct += (predicted == labels).sum().item()\n",
    "\n",
    "        avg_val_loss = val_loss / len(val_loader)\n",
    "        val_acc = correct / total\n",
    "        val_losses.append(avg_val_loss)\n",
    "        val_accs.append(val_acc)\n",
    "\n",
    "        print(f\"Epoch {epoch+1}/{num_epochs}, Train Loss: {avg_train_loss:.4f}, Train Acc: {train_acc:.2%}\")\n",
    "\n",
    "    return train_losses, val_losses, train_accs, val_accs\n",
    "\n",
    "\n",
    "train_losses, val_losses, train_accs, val_accs = train(model, train_loader, val_loader, learning_rate=0.001)"
   ]
  },
  {
   "cell_type": "markdown",
   "id": "9cd9bb30-0dc4-4bd4-984f-0ada63fccb66",
   "metadata": {},
   "source": [
    "**Visualize Metrics**"
   ]
  },
  {
   "cell_type": "code",
   "execution_count": 9,
   "id": "659fa928-a634-4b9e-9918-9d5e209f037c",
   "metadata": {},
   "outputs": [
    {
     "data": {
      "image/png": "[encoded data removed]",
      "text/plain": [
       "<Figure size 800x400 with 1 Axes>"
      ]
     },
     "metadata": {},
     "output_type": "display_data"
    }
   ],
   "source": [
    "def plot_loss(train_losses, val_losses):\n",
    "    \n",
    "    epochs = range(1, len(train_losses) + 1)\n",
    "\n",
    "    plt.figure(figsize=(8, 4))\n",
    "    plt.plot(epochs, train_losses, label='Train Loss')\n",
    "    plt.plot(epochs, val_losses, label='Validation Loss')\n",
    "    plt.xlabel('Epochs')\n",
    "    plt.ylabel('Loss')\n",
    "    plt.title('Loss Curve')\n",
    "    plt.legend()\n",
    "    plt.show()\n",
    "\n",
    "plot_loss(train_losses, val_losses)"
   ]
  },
  {
   "cell_type": "markdown",
   "id": "33b6c98e-4774-45e2-a412-e485106de26b",
   "metadata": {},
   "source": [
    "**Evaluate the Model**"
   ]
  },
  {
   "cell_type": "code",
   "execution_count": 10,
   "id": "cf84112a-4d7d-4b8b-8a95-47b1fa93ad65",
   "metadata": {
    "tags": []
   },
   "outputs": [
    {
     "name": "stdout",
     "output_type": "stream",
     "text": [
      "Training Accuracy: 0.318\n",
      "Test Accuracy: 0.304\n",
      "F1 Score: 0.342\n",
      "Classification Report:\n",
      "              precision    recall  f1-score   support\n",
      "\n",
      "           0       0.18      0.43      0.26       212\n",
      "           1       0.14      0.28      0.18       424\n",
      "           2       0.17      0.47      0.24       437\n",
      "           3       0.74      0.29      0.42      2715\n",
      "           4       0.15      0.19      0.17       492\n",
      "\n",
      "    accuracy                           0.30      4280\n",
      "   macro avg       0.28      0.33      0.25      4280\n",
      "weighted avg       0.53      0.30      0.34      4280\n",
      "\n"
     ]
    }
   ],
   "source": [
    "def evaluate(model, loader):\n",
    "    \n",
    "    device = torch.device(\"cuda\" if torch.cuda.is_available() else \"cpu\")\n",
    "    model.eval()\n",
    "\n",
    "    all_preds, all_labels = [], []\n",
    "    with torch.no_grad():\n",
    "        for inputs, labels in loader:\n",
    "            inputs, labels = inputs.to(device), labels.to(device)\n",
    "            outputs = model(inputs)\n",
    "            _, predicted = outputs.max(1)\n",
    "            all_preds.extend(predicted.cpu().numpy())\n",
    "            all_labels.extend(labels.cpu().numpy())\n",
    "\n",
    "    return np.array(all_labels), np.array(all_preds)\n",
    "\n",
    "# Convert class_names to strings\n",
    "class_names = [str(name) for name in label_encoder.classes_]\n",
    "\n",
    "# Evaluate on train set\n",
    "y_train_true, y_train_pred = evaluate(model, train_loader)\n",
    "\n",
    "# Evaluate on test set\n",
    "y_test_true, y_test_pred = evaluate(model, test_loader)\n",
    "\n",
    "# Print metrics\n",
    "accuracy_train = accuracy_score(y_train_true, y_train_pred)\n",
    "accuracy_test = accuracy_score(y_test_true, y_test_pred)\n",
    "f1_test = f1_score(y_test_true, y_test_pred, average='weighted')\n",
    "\n",
    "print(f'Training Accuracy: {accuracy_train:.3f}')\n",
    "print(f'Test Accuracy: {accuracy_test:.3f}')\n",
    "print(f'F1 Score: {f1_test:.3f}')\n",
    "print(\"Classification Report:\")\n",
    "print(classification_report(y_test_true, y_test_pred, target_names=class_names, zero_division=0))"
   ]
  },
  {
   "cell_type": "code",
   "execution_count": null,
   "id": "3dadd841-6abc-4ecc-b15f-446e3e853f77",
   "metadata": {},
   "outputs": [],
   "source": []
  }
 ],
 "metadata": {
  "kernelspec": {
   "display_name": "Python 3 (ipykernel)",
   "language": "python",
   "name": "python3"
  },
  "language_info": {
   "codemirror_mode": {
    "name": "ipython",
    "version": 3
   },
   "file_extension": ".py",
   "mimetype": "text/x-python",
   "name": "python",
   "nbconvert_exporter": "python",
   "pygments_lexer": "ipython3",
   "version": "3.11.7"
  }
 },
 "nbformat": 4,
 "nbformat_minor": 5
}
