{
 "cells": [
  {
   "cell_type": "markdown",
   "metadata": {},
   "source": [
    "**Import Libraries**"
   ]
  },
  {
   "cell_type": "code",
   "execution_count": 82,
   "metadata": {},
   "outputs": [],
   "source": [
    "import os\n",
    "import copy\n",
    "import numpy as np\n",
    "import pandas as pd\n",
    "from PIL import Image\n",
    "\n",
    "from sklearn.model_selection import train_test_split\n",
    "from sklearn.preprocessing import LabelEncoder\n",
    "from sklearn.metrics import accuracy_score, classification_report, f1_score\n",
    "from sklearn.utils.class_weight import compute_class_weight\n",
    "\n",
    "import torch\n",
    "import torch.nn as nn\n",
    "import torch.optim as optim\n",
    "from torch.utils.data import Dataset, DataLoader\n",
    "\n",
    "from scipy.special import softmax\n",
    "\n",
    "import matplotlib.pyplot as plt\n",
    "\n",
    "import torchvision.transforms as T\n",
    "from collections import Counter"
   ]
  },
  {
   "cell_type": "markdown",
   "metadata": {
    "id": "DfVHGz6X3jxV"
   },
   "source": [
    "**Load and Preprocess Data**"
   ]
  },
  {
   "cell_type": "code",
   "execution_count": 83,
   "metadata": {
    "executionInfo": {
     "elapsed": 12692,
     "status": "ok",
     "timestamp": 1735380932304,
     "user": {
      "displayName": "דור שיר",
      "userId": "02099856341624254319"
     },
     "user_tz": -120
    },
    "id": "IXJS4bcPy3sR",
    "tags": []
   },
   "outputs": [],
   "source": [
    "def load_images_from_csv(data_dir, csv_path, image_size=(50, 50), limit=None):\n",
    "    \"\"\"\n",
    "    data_dir:    Directory containing 'train_images' folder.\n",
    "    csv_path:    Path to the CSV file (with columns 'image_id', 'label').\n",
    "    image_size:  (height, width) to resize images.\n",
    "    limit:       If not None, limit to this many images (for debugging).\n",
    "    \n",
    "    Returns:\n",
    "      X: A NumPy array of shape (N, H*W*3) if flattened, or (N, 3, H, W) if not flattened.\n",
    "      y: A NumPy array of labels (N,).\n",
    "    \"\"\"\n",
    "    df = pd.read_csv(csv_path)\n",
    "    if limit is not None:\n",
    "        df = df.head(limit)\n",
    "\n",
    "    all_images = []\n",
    "    all_labels = []\n",
    "\n",
    "    for _, row in df.iterrows():\n",
    "        image_id = row['image_id']\n",
    "        label = row['label']\n",
    "\n",
    "        # Load image via PIL\n",
    "        img_path = os.path.join(data_dir, 'train_images', image_id)\n",
    "        with Image.open(img_path) as pil_img:\n",
    "            # Convert to RGB\n",
    "            pil_img = pil_img.convert('RGB')\n",
    "            \n",
    "            # Resize using PIL\n",
    "            pil_img = pil_img.resize(image_size, Image.BILINEAR)\n",
    "\n",
    "            # Convert to NumPy array\n",
    "            img_np = np.array(pil_img)  # shape: (H, W, 3)\n",
    "\n",
    "            img_np_flat = img_np.flatten()  # shape: (H*W*3,)\n",
    "\n",
    "            all_images.append(img_np_flat)\n",
    "            all_labels.append(label)\n",
    "\n",
    "    X = np.array(all_images)\n",
    "    y = np.array(all_labels)\n",
    "    return X, y\n",
    "\n",
    "data_dir = '.'\n",
    "csv_path = os.path.join(data_dir, 'train.csv')\n",
    "IMAGE_SIZE = (64, 64)\n",
    "\n",
    "X, y = load_images_from_csv(\n",
    "    data_dir=data_dir, \n",
    "    csv_path=csv_path, \n",
    "    image_size=IMAGE_SIZE, \n",
    ")"
   ]
  },
  {
   "cell_type": "markdown",
   "metadata": {
    "tags": []
   },
   "source": [
    "**Augmentation**"
   ]
  },
  {
   "cell_type": "code",
   "execution_count": 84,
   "metadata": {},
   "outputs": [
    {
     "name": "stdout",
     "output_type": "stream",
     "text": [
      "Final class distribution after augmentation:\n",
      "Class 0: 12071 samples\n",
      "Class 3: 13158 samples\n",
      "Class 1: 10969 samples\n",
      "Class 2: 10772 samples\n",
      "Class 4: 10581 samples\n",
      "Original shape: (21397, 12288) | Balanced shape: (57551, 12288)\n"
     ]
    }
   ],
   "source": [
    "def augment_class(X, y, class_label, transform, required_samples, image_size=(64, 64)):\n",
    "    \"\"\"\n",
    "    Augment the dataset for a specific class to match the majority class.\n",
    "\n",
    "    Parameters:\n",
    "        X (np.ndarray): Dataset of flattened images, shape (N, H*W*3).\n",
    "        y (np.ndarray): Corresponding labels, shape (N,).\n",
    "        class_label (int): The class label to augment.\n",
    "        transform (torchvision.transforms.Compose): Transformations for augmentation.\n",
    "        required_samples (int): Total number of samples needed for this class after augmentation.\n",
    "        image_size (tuple): Original image dimensions (H, W).\n",
    "\n",
    "    Returns:\n",
    "        X_aug (np.ndarray): Augmented dataset for the class, shape (required_samples, H*W*3).\n",
    "        y_aug (np.ndarray): Corresponding labels for the augmented data.\n",
    "    \"\"\"\n",
    "    H, W = image_size\n",
    "    # Find indices of the samples belonging to the class_label\n",
    "    class_indices = np.where(y == class_label)[0]\n",
    "    \n",
    "    if len(class_indices) == 0:\n",
    "        print(f\"No samples found for class {class_label}. Skipping augmentation.\")\n",
    "        return np.empty((0, X.shape[1]), dtype=X.dtype), np.empty(0, dtype=y.dtype)\n",
    "    \n",
    "    current_samples = len(class_indices)\n",
    "    augment_factor = -(-required_samples // current_samples)  # Ceiling division\n",
    "    total_needed = required_samples - current_samples\n",
    "\n",
    "    augmented_images = []\n",
    "    augmented_labels = []\n",
    "\n",
    "    for idx in class_indices:\n",
    "        base_image_flat = X[idx]  # shape: H*W*3\n",
    "        label = y[idx]\n",
    "\n",
    "        # Convert flat array to (H, W, 3) and to PIL.Image\n",
    "        base_image_3d = base_image_flat.reshape((H, W, 3)).astype(np.uint8)\n",
    "        base_image_pil = Image.fromarray(base_image_3d, mode='RGB')\n",
    "\n",
    "        # Create augmented versions\n",
    "        for _ in range(augment_factor):\n",
    "            if len(augmented_images) >= total_needed:\n",
    "                break\n",
    "            aug_pil = transform(base_image_pil)  \n",
    "            # Convert tensor (3, H, W) -> (H, W, 3)\n",
    "            aug_np = (aug_pil.permute(1, 2, 0).numpy() * 255).clip(0, 255).astype(np.uint8)\n",
    "\n",
    "            # Flatten the augmented image\n",
    "            aug_np_flat = aug_np.flatten()\n",
    "            augmented_images.append(aug_np_flat)\n",
    "            augmented_labels.append(label)\n",
    "\n",
    "    # Convert lists to NumPy arrays\n",
    "    X_aug = np.array(augmented_images, dtype=X.dtype)\n",
    "    y_aug = np.array(augmented_labels, dtype=y.dtype)\n",
    "    \n",
    "    return X_aug, y_aug\n",
    "\n",
    "def balance_classes_to_majority(X, y, transform, image_size=(64, 64)):\n",
    "    \"\"\"\n",
    "    Balance the dataset by augmenting underrepresented classes to match the majority class size.\n",
    "\n",
    "    Parameters:\n",
    "        X (np.ndarray): Dataset of flattened images, shape (N, H*W*3).\n",
    "        y (np.ndarray): Corresponding labels, shape (N,).\n",
    "        transform (torchvision.transforms.Compose): Transformations for augmentation.\n",
    "        image_size (tuple): Original image dimensions (H, W).\n",
    "\n",
    "    Returns:\n",
    "        X_balanced (np.ndarray): Dataset balanced to the size of the majority class.\n",
    "        y_balanced (np.ndarray): Corresponding labels for the balanced dataset.\n",
    "    \"\"\"\n",
    "    # Get the class distribution\n",
    "    class_counts = Counter(y)\n",
    "    max_samples = max(class_counts.values())  # Size of the majority class\n",
    "\n",
    "    X_balanced = []\n",
    "    y_balanced = []\n",
    "\n",
    "    for class_label, count in class_counts.items():\n",
    "        # Get current class samples\n",
    "        class_indices = np.where(y == class_label)[0]\n",
    "        X_class = X[class_indices]\n",
    "        y_class = y[class_indices]\n",
    "\n",
    "        X_balanced.append(X_class)\n",
    "        y_balanced.append(y_class)\n",
    "\n",
    "        if count < max_samples:\n",
    "            # Augment samples to match the majority class size\n",
    "            required_samples = max_samples - count\n",
    "            X_aug, y_aug = augment_class(\n",
    "                X, y, class_label, transform, required_samples, image_size\n",
    "            )\n",
    "\n",
    "            X_balanced.append(X_aug)\n",
    "            y_balanced.append(y_aug)\n",
    "\n",
    "    # Combine all classes into a single dataset\n",
    "    X_balanced = np.vstack(X_balanced)\n",
    "    y_balanced = np.hstack(y_balanced)\n",
    "\n",
    "    print(\"Final class distribution after augmentation:\")\n",
    "    final_class_counts = Counter(y_balanced)\n",
    "    for label, count in final_class_counts.items():\n",
    "        print(f\"Class {label}: {count} samples\")\n",
    "\n",
    "    return X_balanced, y_balanced\n",
    "\n",
    "\n",
    "# Define improved augmentation pipeline with corrected order\n",
    "train_transform = T.Compose([\n",
    "    T.RandomHorizontalFlip(p=0.5),            # Random horizontal flip\n",
    "    T.RandomRotation(degrees=15),              # Random rotation\n",
    "    T.RandomResizedCrop(size=IMAGE_SIZE, scale=(0.8, 1.0)),  # Random resized crop\n",
    "    T.ColorJitter(brightness=0.2, contrast=0.2, saturation=0.2, hue=0.2),  # Color jitter\n",
    "    T.GaussianBlur(kernel_size=3, sigma=(0.1, 2.0)),  # Add GaussianBlur here\n",
    "    T.RandomAffine(degrees=0, translate=(0.1, 0.1), shear=10),  # Random affine\n",
    "    T.RandomPerspective(distortion_scale=0.2, p=0.5, interpolation=3),  # Random perspective\n",
    "    T.ToTensor(),                             # Convert to tensor first\n",
    "    T.RandomErasing(p=0.2),                   # Random erasing for occlusion\n",
    "])\n",
    "\n",
    "# Apply the updated balancing function\n",
    "X_balanced, y_balanced = balance_classes_to_majority(\n",
    "    X,\n",
    "    y,\n",
    "    transform=train_transform,\n",
    "    image_size=IMAGE_SIZE,\n",
    ")\n",
    "\n",
    "print(\"Original shape:\", X.shape, \"| Balanced shape:\", X_balanced.shape)"
   ]
  },
  {
   "cell_type": "markdown",
   "metadata": {
    "id": "o-VAbNxj4ESj"
   },
   "source": [
    "**Encode Labels**"
   ]
  },
  {
   "cell_type": "code",
   "execution_count": 85,
   "metadata": {
    "executionInfo": {
     "elapsed": 372,
     "status": "ok",
     "timestamp": 1735380976710,
     "user": {
      "displayName": "דור שיר",
      "userId": "02099856341624254319"
     },
     "user_tz": -120
    },
    "id": "mQ5SFmLW4D59",
    "tags": []
   },
   "outputs": [],
   "source": [
    "label_encoder = LabelEncoder()\n",
    "y_encoded = label_encoder.fit_transform(y_balanced)\n",
    "\n",
    "class_names = label_encoder.classes_\n",
    "num_classes = len(class_names)"
   ]
  },
  {
   "cell_type": "markdown",
   "metadata": {
    "id": "5KEX0xNP3iAR"
   },
   "source": [
    "**Split Dataset**"
   ]
  },
  {
   "cell_type": "code",
   "execution_count": 86,
   "metadata": {
    "executionInfo": {
     "elapsed": 1408,
     "status": "ok",
     "timestamp": 1735380951801,
     "user": {
      "displayName": "דור שיר",
      "userId": "02099856341624254319"
     },
     "user_tz": -120
    },
    "id": "6q2NTJSB3uSa",
    "tags": []
   },
   "outputs": [],
   "source": [
    "# First split into train + (validation + test)\n",
    "X_train, X_temp, y_train, y_temp = train_test_split(X_balanced, y_encoded, test_size=0.4, random_state=42)\n",
    "\n",
    "# Then split (validation + test) into validation and test\n",
    "X_val, X_test, y_val, y_test = train_test_split(X_temp, y_temp, test_size=0.5, random_state=42)"
   ]
  },
  {
   "cell_type": "markdown",
   "metadata": {},
   "source": [
    "**Normalize**"
   ]
  },
  {
   "cell_type": "code",
   "execution_count": 87,
   "metadata": {},
   "outputs": [],
   "source": [
    "# Calculate mean and standard deviation from the training group\n",
    "train_mean = X_train.mean(axis=0)\n",
    "train_std = X_train.std(axis=0)\n",
    "\n",
    "# Normalize the training data\n",
    "X_train_normalized = (X_train - train_mean) / train_std\n",
    "\n",
    "# Apply the same normalization to the validation and test datasets\n",
    "X_val_normalized = (X_val - train_mean) / train_std\n",
    "X_test_normalized = (X_test - train_mean) / train_std"
   ]
  },
  {
   "cell_type": "markdown",
   "metadata": {},
   "source": [
    "**Prepare Data for PyTorch**"
   ]
  },
  {
   "cell_type": "code",
   "execution_count": 88,
   "metadata": {},
   "outputs": [],
   "source": [
    "# Convert to tensors\n",
    "y_train_tensor = torch.tensor(y_train, dtype=torch.long)\n",
    "y_val_tensor = torch.tensor(y_val, dtype=torch.long)\n",
    "y_test_tensor = torch.tensor(y_test, dtype=torch.long)\n",
    "X_train_torch = torch.tensor(X_train_normalized, dtype=torch.float32)\n",
    "X_val_torch = torch.tensor(X_val_normalized, dtype=torch.float32)\n",
    "X_test_torch = torch.tensor(X_test_normalized, dtype=torch.float32)\n",
    "\n",
    "class ImageDataset(Dataset):\n",
    "    def __init__(self, X, y):\n",
    "        self.X = X\n",
    "        self.y = y\n",
    "\n",
    "    def __len__(self):\n",
    "        return len(self.X)\n",
    "\n",
    "    def __getitem__(self, idx):\n",
    "        return self.X[idx], self.y[idx]\n",
    "\n",
    "train_dataset = ImageDataset(X_train_torch, y_train_tensor)\n",
    "val_dataset = ImageDataset(X_val_torch, y_val_tensor)\n",
    "test_dataset = ImageDataset(X_test_torch, y_test_tensor)\n",
    "\n",
    "batch_size = 64\n",
    "train_loader = DataLoader(train_dataset, batch_size=batch_size, shuffle=True)\n",
    "val_loader = DataLoader(val_dataset, batch_size=batch_size, shuffle=False)\n",
    "test_loader = DataLoader(test_dataset, batch_size=batch_size, shuffle=False)"
   ]
  },
  {
   "cell_type": "markdown",
   "metadata": {
    "id": "eNa9PbRz3v5t"
   },
   "source": [
    "**Define the Model**"
   ]
  },
  {
   "cell_type": "code",
   "execution_count": 89,
   "metadata": {},
   "outputs": [],
   "source": [
    "class SoftmaxRegression(nn.Module):\n",
    "    def __init__(self, input_dim, output_dim):\n",
    "        \"\"\"\n",
    "        Initialize Softmax Regression with input and output dimensions.\n",
    "        Args:\n",
    "            input_dim (int): Number of input features.\n",
    "            output_dim (int): Number of output classes.\n",
    "        \"\"\"\n",
    "        super(SoftmaxRegression, self).__init__()\n",
    "        self.linear = nn.Linear(input_dim, output_dim)\n",
    "\n",
    "    def forward(self, x):\n",
    "        \"\"\"\n",
    "        Forward pass: compute logits.\n",
    "        Args:\n",
    "            x (Tensor): Input tensor of shape (batch_size, input_dim).\n",
    "        Returns:\n",
    "            Tensor: Logits of shape (batch_size, output_dim).\n",
    "        \"\"\"\n",
    "        logits = self.linear(x)  # Compute logits (raw scores)\n",
    "        return logits  # Return raw logits without softmax\n",
    "    \n",
    "    def predict(self, x):\n",
    "        \"\"\"\n",
    "        Predict class labels from input features.\n",
    "        Args:\n",
    "            x (Tensor): Input tensor of shape (batch_size, input_dim).\n",
    "        Returns:\n",
    "            Tensor: Predicted class labels of shape (batch_size).\n",
    "        \"\"\"\n",
    "        logits = self.forward(x)\n",
    "        return torch.argmax(logits, dim=1)  # Get the class with the highest logit\n",
    "\n",
    "\n",
    "# Model initialization\n",
    "input_dim = X_train_torch.shape[1]  # Number of features\n",
    "output_dim = num_classes  # Number of classes\n",
    "model = SoftmaxRegression(input_dim, output_dim)"
   ]
  },
  {
   "cell_type": "markdown",
   "metadata": {
    "id": "jXj3VlJk4L-w"
   },
   "source": [
    "**Train the Model**"
   ]
  },
  {
   "cell_type": "code",
   "execution_count": 90,
   "metadata": {
    "id": "AapB-RkpDoye",
    "tags": []
   },
   "outputs": [
    {
     "name": "stdout",
     "output_type": "stream",
     "text": [
      "Epoch 1/50, Train Loss: 2.2717, Train Acc: 36.46%\n",
      "Epoch 2/50, Train Loss: 2.1634, Train Acc: 37.97%\n",
      "Epoch 3/50, Train Loss: 2.1348, Train Acc: 37.85%\n",
      "Epoch 4/50, Train Loss: 2.1440, Train Acc: 37.41%\n",
      "Epoch 5/50, Train Loss: 2.1305, Train Acc: 37.86%\n",
      "Epoch 6/50, Train Loss: 2.1733, Train Acc: 38.08%\n",
      "Epoch 7/50, Train Loss: 2.1184, Train Acc: 37.91%\n",
      "Epoch 8/50, Train Loss: 2.1252, Train Acc: 38.16%\n",
      "Epoch 9/50, Train Loss: 2.1350, Train Acc: 38.23%\n",
      "Epoch 00010: reducing learning rate of group 0 to 5.0000e-04.\n",
      "Epoch 10/50, Train Loss: 2.1564, Train Acc: 37.76%\n",
      "Epoch 11/50, Train Loss: 1.7080, Train Acc: 40.86%\n",
      "Epoch 12/50, Train Loss: 1.6854, Train Acc: 40.94%\n",
      "Epoch 13/50, Train Loss: 1.6894, Train Acc: 40.79%\n",
      "Epoch 14/50, Train Loss: 1.6791, Train Acc: 40.88%\n",
      "Epoch 00015: reducing learning rate of group 0 to 2.5000e-04.\n",
      "Epoch 15/50, Train Loss: 1.6656, Train Acc: 40.87%\n",
      "Epoch 16/50, Train Loss: 1.4936, Train Acc: 43.62%\n",
      "Epoch 17/50, Train Loss: 1.4721, Train Acc: 43.74%\n",
      "Epoch 18/50, Train Loss: 1.4729, Train Acc: 43.80%\n",
      "Epoch 19/50, Train Loss: 1.4720, Train Acc: 43.38%\n",
      "Epoch 20/50, Train Loss: 1.4700, Train Acc: 43.67%\n",
      "Epoch 21/50, Train Loss: 1.4716, Train Acc: 43.74%\n",
      "Epoch 22/50, Train Loss: 1.4717, Train Acc: 43.71%\n",
      "Epoch 23/50, Train Loss: 1.4703, Train Acc: 43.59%\n",
      "Epoch 00024: reducing learning rate of group 0 to 1.2500e-04.\n",
      "Epoch 24/50, Train Loss: 1.4744, Train Acc: 43.59%\n",
      "Epoch 25/50, Train Loss: 1.3805, Train Acc: 45.96%\n",
      "Epoch 26/50, Train Loss: 1.3691, Train Acc: 46.28%\n",
      "Epoch 27/50, Train Loss: 1.3683, Train Acc: 46.21%\n",
      "Epoch 28/50, Train Loss: 1.3734, Train Acc: 45.66%\n",
      "Epoch 29/50, Train Loss: 1.3703, Train Acc: 45.91%\n",
      "Epoch 30/50, Train Loss: 1.3711, Train Acc: 45.77%\n",
      "Epoch 00031: reducing learning rate of group 0 to 6.2500e-05.\n",
      "Epoch 31/50, Train Loss: 1.3705, Train Acc: 45.95%\n",
      "Epoch 32/50, Train Loss: 1.3253, Train Acc: 47.80%\n",
      "Epoch 33/50, Train Loss: 1.3199, Train Acc: 47.84%\n",
      "Epoch 34/50, Train Loss: 1.3183, Train Acc: 47.61%\n",
      "Epoch 35/50, Train Loss: 1.3188, Train Acc: 47.66%\n",
      "Epoch 36/50, Train Loss: 1.3196, Train Acc: 47.66%\n",
      "Epoch 37/50, Train Loss: 1.3190, Train Acc: 47.70%\n",
      "Epoch 00038: reducing learning rate of group 0 to 3.1250e-05.\n",
      "Epoch 38/50, Train Loss: 1.3184, Train Acc: 47.48%\n",
      "Epoch 39/50, Train Loss: 1.2955, Train Acc: 48.77%\n",
      "Epoch 40/50, Train Loss: 1.2942, Train Acc: 48.87%\n",
      "Epoch 41/50, Train Loss: 1.2923, Train Acc: 48.78%\n",
      "Epoch 42/50, Train Loss: 1.2926, Train Acc: 48.79%\n",
      "Epoch 43/50, Train Loss: 1.2921, Train Acc: 48.87%\n",
      "Epoch 00044: reducing learning rate of group 0 to 1.5625e-05.\n",
      "Epoch 44/50, Train Loss: 1.2918, Train Acc: 48.87%\n",
      "Epoch 45/50, Train Loss: 1.2801, Train Acc: 49.37%\n",
      "Epoch 46/50, Train Loss: 1.2777, Train Acc: 49.48%\n",
      "Epoch 47/50, Train Loss: 1.2781, Train Acc: 49.67%\n",
      "Epoch 48/50, Train Loss: 1.2787, Train Acc: 49.67%\n",
      "Epoch 49/50, Train Loss: 1.2779, Train Acc: 49.51%\n",
      "Epoch 50/50, Train Loss: 1.2779, Train Acc: 49.48%\n"
     ]
    }
   ],
   "source": [
    "def train(model, train_loader, val_loader, num_epochs=50, learning_rate=0.001, patience=7, alpha=0.001):\n",
    "    device = torch.device(\"cuda\" if torch.cuda.is_available() else \"cpu\")\n",
    "    model.to(device)\n",
    "\n",
    "    criterion = nn.CrossEntropyLoss()\n",
    "    optimizer = optim.Adam(model.parameters(), lr=learning_rate , weight_decay=1e-4)\n",
    "    scheduler = optim.lr_scheduler.ReduceLROnPlateau(\n",
    "        optimizer, mode='min', factor=0.5, patience=3, verbose=True\n",
    "    )\n",
    "\n",
    "    train_losses, val_losses = [], []\n",
    "    train_accs, val_accs = [], []\n",
    "\n",
    "    best_val_loss = float('inf')\n",
    "    best_model_state = None\n",
    "    no_improve_count = 0\n",
    "\n",
    "    for epoch in range(num_epochs):\n",
    "        model.train()\n",
    "        running_loss, correct, total = 0.0, 0, 0\n",
    "\n",
    "        for inputs, labels in train_loader:\n",
    "            inputs, labels = inputs.to(device), labels.to(device)\n",
    "\n",
    "            optimizer.zero_grad()\n",
    "            outputs = model(inputs)\n",
    "            loss_ce = criterion(outputs, labels)\n",
    "\n",
    "            # L1 regularization\n",
    "            l1_penalty = torch.tensor(0., requires_grad=True).to(device)\n",
    "            for name, param in model.named_parameters():\n",
    "                if \"weight\" in name and \"bn\" not in name:  # Exclude biases and BatchNorm parameters\n",
    "                    l1_penalty += torch.norm(param, p=1)\n",
    "\n",
    "            # Total loss\n",
    "            total_loss = loss_ce + alpha * l1_penalty\n",
    "\n",
    "            total_loss.backward()\n",
    "            \n",
    "            # Add gradient clipping\n",
    "            torch.nn.utils.clip_grad_norm_(model.parameters(), max_norm=1.0)\n",
    "            \n",
    "            optimizer.step()\n",
    "            \n",
    "\n",
    "            running_loss += total_loss.item()\n",
    "            _, predicted = outputs.max(1)\n",
    "            total += labels.size(0)\n",
    "            correct += predicted.eq(labels).sum().item()\n",
    "\n",
    "        train_losses.append(running_loss / len(train_loader))\n",
    "        train_accs.append(100. * correct / total)\n",
    "\n",
    "        model.eval()\n",
    "        val_loss, correct, total = 0.0, 0, 0\n",
    "\n",
    "        with torch.no_grad():\n",
    "            for inputs, labels in val_loader:\n",
    "                inputs, labels = inputs.to(device), labels.to(device)\n",
    "                outputs = model(inputs)\n",
    "                loss_ce = criterion(outputs, labels)\n",
    "\n",
    "                # L1 regularization in validation\n",
    "                l1_penalty = torch.tensor(0., requires_grad=False).to(device)\n",
    "                for name, param in model.named_parameters():\n",
    "                    if \"weight\" in name and \"bn\" not in name:  # Exclude biases and BatchNorm parameters\n",
    "                        l1_penalty += torch.norm(param, p=1)\n",
    "\n",
    "                total_loss = loss_ce + alpha * l1_penalty\n",
    "                val_loss += total_loss.item()\n",
    "\n",
    "                _, predicted = outputs.max(1)\n",
    "                total += labels.size(0)\n",
    "                correct += predicted.eq(labels).sum().item()\n",
    "\n",
    "        val_losses.append(val_loss / len(val_loader))\n",
    "        val_accs.append(100. * correct / total)\n",
    "        \n",
    "        # Learning rate scheduling\n",
    "        scheduler.step(val_loss)\n",
    "\n",
    "        print(f\"Epoch {epoch+1}/{num_epochs}, Train Loss: {train_losses[-1]:.4f}, Train Acc: {train_accs[-1]:.2f}%\")\n",
    "\n",
    "        # Early stopping mechanism\n",
    "        if val_losses[-1] < best_val_loss:\n",
    "            best_val_loss = val_losses[-1]\n",
    "            best_model_state = copy.deepcopy(model.state_dict())\n",
    "            no_improve_count = 0\n",
    "        else:\n",
    "            no_improve_count += 1\n",
    "\n",
    "        if no_improve_count >= patience:\n",
    "            print(f\"Early stopping triggered after {epoch+1} epochs\")\n",
    "            break\n",
    "\n",
    "    # Restore the best model\n",
    "    if best_model_state is not None:\n",
    "        model.load_state_dict(best_model_state)\n",
    "\n",
    "    return train_losses, val_losses, train_accs, val_accs\n",
    "\n",
    "\n",
    "train_losses, val_losses, train_accs, val_accs = train(model, train_loader, val_loader, num_epochs=50, learning_rate=0.001)"
   ]
  },
  {
   "cell_type": "markdown",
   "metadata": {},
   "source": [
    "**Visualize Metrics**"
   ]
  },
  {
   "cell_type": "code",
   "execution_count": 91,
   "metadata": {},
   "outputs": [
    {
     "data": {
      "image/png": "[encoded data removed]",
      "text/plain": [
       "<Figure size 800x400 with 1 Axes>"
      ]
     },
     "metadata": {},
     "output_type": "display_data"
    }
   ],
   "source": [
    "def plot_loss(train_losses, val_losses):\n",
    "    epochs = range(1, len(train_losses) + 1)\n",
    "\n",
    "    plt.figure(figsize=(8, 4))\n",
    "    plt.plot(epochs, train_losses, label='Train Loss')\n",
    "    plt.plot(epochs, val_losses, label='Validation Loss')\n",
    "    plt.xlabel('Epochs')\n",
    "    plt.ylabel('Loss')\n",
    "    plt.title('Loss Curve')\n",
    "    plt.legend()\n",
    "    plt.show()\n",
    "\n",
    "plot_loss(train_losses, val_losses)"
   ]
  },
  {
   "cell_type": "markdown",
   "metadata": {
    "id": "xPAakxDXDpvq"
   },
   "source": [
    "**Evaluate the Model**"
   ]
  },
  {
   "cell_type": "code",
   "execution_count": 92,
   "metadata": {
    "id": "dd-OyxN7DtFH",
    "tags": []
   },
   "outputs": [
    {
     "name": "stdout",
     "output_type": "stream",
     "text": [
      "Training Accuracy: 0.500\n",
      "Test Accuracy: 0.436\n",
      "F1 Score: 0.399\n",
      "Classification Report:\n",
      "              precision    recall  f1-score   support\n",
      "\n",
      "           0       0.41      0.53      0.47      2467\n",
      "           1       0.30      0.19      0.23      2235\n",
      "           2       0.33      0.32      0.32      2130\n",
      "           3       0.62      0.92      0.74      2574\n",
      "           4       0.24      0.11      0.15      2105\n",
      "\n",
      "    accuracy                           0.44     11511\n",
      "   macro avg       0.38      0.41      0.38     11511\n",
      "weighted avg       0.39      0.44      0.40     11511\n",
      "\n"
     ]
    }
   ],
   "source": [
    "def evaluate(model, loader):\n",
    "    device = torch.device(\"cuda\" if torch.cuda.is_available() else \"cpu\")\n",
    "    model.eval()\n",
    "\n",
    "    all_preds, all_labels = [], []\n",
    "    with torch.no_grad():\n",
    "        for inputs, labels in loader:\n",
    "            inputs, labels = inputs.to(device), labels.to(device)\n",
    "            outputs = model(inputs)\n",
    "            _, predicted = outputs.max(1)\n",
    "            all_preds.extend(predicted.cpu().numpy())\n",
    "            all_labels.extend(labels.cpu().numpy())\n",
    "\n",
    "    return np.array(all_labels), np.array(all_preds)\n",
    "\n",
    "# Evaluate on train set\n",
    "y_train_true, y_train_pred = evaluate(model, train_loader)\n",
    "\n",
    "# Evaluate on test set\n",
    "y_test_true, y_test_pred = evaluate(model, test_loader)\n",
    "\n",
    "# Print metrics\n",
    "accuracy_train = accuracy_score(y_train_true, y_train_pred)\n",
    "accuracy_test = accuracy_score(y_test_true, y_test_pred)\n",
    "f1_test = f1_score(y_test_true, y_test_pred, average='weighted')\n",
    "\n",
    "print(f'Training Accuracy: {accuracy_train:.3f}')\n",
    "print(f'Test Accuracy: {accuracy_test:.3f}')\n",
    "print(f'F1 Score: {f1_test:.3f}')\n",
    "print(\"Classification Report:\")\n",
    "print(classification_report(y_test_true, y_test_pred, zero_division=0))"
   ]
  },
  {
   "cell_type": "code",
   "execution_count": null,
   "metadata": {},
   "outputs": [],
   "source": []
  }
 ],
 "metadata": {
  "colab": {
   "provenance": [
    {
     "file_id": "1DYXXBcajFxgr3UOi_BCH5pdMTdkjhSEL",
     "timestamp": 1733258291975
    }
   ]
  },
  "kernelspec": {
   "display_name": "Python 3 (ipykernel)",
   "language": "python",
   "name": "python3"
  },
  "language_info": {
   "codemirror_mode": {
    "name": "ipython",
    "version": 3
   },
   "file_extension": ".py",
   "mimetype": "text/x-python",
   "name": "python",
   "nbconvert_exporter": "python",
   "pygments_lexer": "ipython3",
   "version": "3.11.7"
  }
 },
 "nbformat": 4,
 "nbformat_minor": 4
}
