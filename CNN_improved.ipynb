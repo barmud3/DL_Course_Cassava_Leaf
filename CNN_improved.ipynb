{
 "cells": [
  {
   "cell_type": "markdown",
   "id": "fcfa3c14-1fc2-419c-904d-31f9bf7aa662",
   "metadata": {},
   "source": [
    "**Import Libraries**"
   ]
  },
  {
   "cell_type": "code",
   "execution_count": 1,
   "id": "d948e8ae-3fad-40c7-ac1b-6ef4293e6cae",
   "metadata": {},
   "outputs": [],
   "source": [
    "import os\n",
    "import copy\n",
    "import numpy as np\n",
    "import pandas as pd\n",
    "from PIL import Image\n",
    "\n",
    "from sklearn.model_selection import train_test_split\n",
    "from sklearn.metrics import accuracy_score, classification_report, f1_score\n",
    "from sklearn.utils.class_weight import compute_class_weight\n",
    "from sklearn.preprocessing import LabelEncoder\n",
    "\n",
    "import torch\n",
    "import torch.nn as nn\n",
    "import torch.optim as optim\n",
    "from torch.utils.data import Dataset, DataLoader\n",
    "\n",
    "import matplotlib.pyplot as plt"
   ]
  },
  {
   "cell_type": "markdown",
   "id": "c32b899b-9756-4250-81d7-5fad7ccbd7e5",
   "metadata": {},
   "source": [
    "**Load and Preprocess Data**"
   ]
  },
  {
   "cell_type": "code",
   "execution_count": 2,
   "id": "dd9a8b73-da8f-49da-abe6-7c7a89e83ac8",
   "metadata": {},
   "outputs": [
    {
     "name": "stdout",
     "output_type": "stream",
     "text": [
      "Class distribution (number of samples per class):\n",
      "  Class '3': 13158 samples\n",
      "  Class '4': 2577 samples\n",
      "  Class '2': 2386 samples\n",
      "  Class '1': 2189 samples\n",
      "  Class '0': 1087 samples\n"
     ]
    }
   ],
   "source": [
    "def load_images_from_csv(data_dir, csv_path, image_size=(50, 50), limit=None):\n",
    "    df = pd.read_csv(csv_path)\n",
    "    if limit is not None:\n",
    "        df = df.head(limit)\n",
    "\n",
    "    all_images = []\n",
    "    all_labels = []\n",
    "\n",
    "    for _, row in df.iterrows():\n",
    "        image_id = row['image_id']\n",
    "        label = row['label']\n",
    "\n",
    "        img_path = os.path.join(data_dir, 'train_images', image_id)\n",
    "        with Image.open(img_path) as pil_img:\n",
    "            pil_img = pil_img.convert('RGB')\n",
    "            pil_img = pil_img.resize(image_size, Image.BILINEAR)\n",
    "\n",
    "            img_np = np.array(pil_img)\n",
    "            all_images.append(img_np)\n",
    "            all_labels.append(label)\n",
    "\n",
    "    X = np.array(all_images)\n",
    "    y = np.array(all_labels)\n",
    "\n",
    "    class_counts = pd.Series(y).value_counts()\n",
    "    print(\"Class distribution (number of samples per class):\")\n",
    "    for label, count in class_counts.items():\n",
    "        print(f\"  Class '{label}': {count} samples\")\n",
    "\n",
    "    return X, y\n",
    "\n",
    "# Set paths and parameters\n",
    "data_dir = '.'\n",
    "csv_path = os.path.join(data_dir, 'train.csv')\n",
    "IMAGE_SIZE = (128, 128)\n",
    "\n",
    "# Load data\n",
    "X, y = load_images_from_csv(data_dir=data_dir, csv_path=csv_path, image_size=IMAGE_SIZE)"
   ]
  },
  {
   "cell_type": "markdown",
   "id": "f528f0a7-1d57-4ff0-a975-bc495e94b21d",
   "metadata": {},
   "source": [
    "**Encode Labels**"
   ]
  },
  {
   "cell_type": "code",
   "execution_count": 3,
   "id": "9cc6df4d-a538-423a-aacd-79603666cd0e",
   "metadata": {
    "tags": []
   },
   "outputs": [],
   "source": [
    "label_encoder = LabelEncoder()\n",
    "y_encoded = label_encoder.fit_transform(y)\n",
    "class_names = label_encoder.classes_"
   ]
  },
  {
   "cell_type": "markdown",
   "id": "e7836338-4a0d-45c4-a84f-6c5a183e59c7",
   "metadata": {},
   "source": [
    "**Split Data**"
   ]
  },
  {
   "cell_type": "code",
   "execution_count": 4,
   "id": "a7acf82f-8c10-49c3-87d4-3143e522e5bc",
   "metadata": {},
   "outputs": [],
   "source": [
    "# First split into train + (validation + test)\n",
    "X_train, X_temp, y_train, y_temp = train_test_split(X, y_encoded, test_size=0.4, random_state=42)\n",
    "\n",
    "# Then split (validation + test) into validation and test\n",
    "X_val, X_test, y_val, y_test = train_test_split(X_temp, y_temp, test_size=0.5, random_state=42) "
   ]
  },
  {
   "cell_type": "markdown",
   "id": "0e6df1db-432a-41b8-bca9-d1de72ee3955",
   "metadata": {},
   "source": [
    "**Compute Class Weights**"
   ]
  },
  {
   "cell_type": "code",
   "execution_count": 5,
   "id": "3e29a26e-9b12-4816-9a7c-cae80f0739ea",
   "metadata": {},
   "outputs": [
    {
     "name": "stdout",
     "output_type": "stream",
     "text": [
      "Class weights: tensor([3.8962, 1.9161, 1.7396, 0.3292, 1.6417], device='cuda:0')\n"
     ]
    }
   ],
   "source": [
    "class_weights = compute_class_weight('balanced', classes=np.unique(y_train), y=y_train)\n",
    "class_weights = torch.tensor(class_weights, dtype=torch.float).to('cuda' if torch.cuda.is_available() else 'cpu')\n",
    "\n",
    "print(\"Class weights:\", class_weights)"
   ]
  },
  {
   "cell_type": "markdown",
   "id": "0f35d99f-bac7-4e80-b164-d6c3bdaced49",
   "metadata": {},
   "source": [
    "**Normalize**"
   ]
  },
  {
   "cell_type": "code",
   "execution_count": 6,
   "id": "3b4c6b78-718f-4fbd-8ff1-e473f0a16cf0",
   "metadata": {},
   "outputs": [],
   "source": [
    "# Calculate mean and standard deviation from the training group\n",
    "train_mean = X_train.mean(axis=(0, 1, 2))\n",
    "train_std = X_train.std(axis=(0, 1, 2))\n",
    "\n",
    "# Normalize the training data\n",
    "X_train_normalized = (X_train - train_mean) / train_std\n",
    "\n",
    "# Apply the same normalization to the validation and test datasets\n",
    "X_val_normalized = (X_val - train_mean) / train_std\n",
    "X_test_normalized = (X_test - train_mean) / train_std"
   ]
  },
  {
   "cell_type": "markdown",
   "id": "ac3989d0-22a6-457c-b628-74cb0c8b664d",
   "metadata": {},
   "source": [
    "**Prepare Data for PyTorch**"
   ]
  },
  {
   "cell_type": "code",
   "execution_count": 7,
   "id": "56effe9f-6803-41aa-b7ef-17512bed8f11",
   "metadata": {},
   "outputs": [],
   "source": [
    "# Transpose axes for PyTorch\n",
    "X_train = np.transpose(X_train_normalized, (0, 3, 1, 2))\n",
    "X_val = np.transpose(X_val_normalized, (0, 3, 1, 2))\n",
    "X_test = np.transpose(X_test_normalized, (0, 3, 1, 2))\n",
    "\n",
    "# Convert to tensors\n",
    "X_train_tensor = torch.tensor(X_train, dtype=torch.float32)\n",
    "y_train_tensor = torch.tensor(y_train, dtype=torch.long)\n",
    "\n",
    "X_val_tensor = torch.tensor(X_val, dtype=torch.float32)\n",
    "y_val_tensor = torch.tensor(y_val, dtype=torch.long)\n",
    "\n",
    "X_test_tensor = torch.tensor(X_test, dtype=torch.float32)\n",
    "y_test_tensor = torch.tensor(y_test, dtype=torch.long)\n",
    "\n",
    "class ImageDataset(Dataset):\n",
    "    \n",
    "    def __init__(self, X, y):\n",
    "        self.X = X\n",
    "        self.y = y\n",
    "\n",
    "    def __len__(self):\n",
    "        return len(self.X)\n",
    "\n",
    "    def __getitem__(self, idx):\n",
    "        return self.X[idx], self.y[idx]\n",
    "\n",
    "train_dataset = ImageDataset(X_train_tensor, y_train_tensor)\n",
    "val_dataset = ImageDataset(X_val_tensor, y_val_tensor)\n",
    "test_dataset = ImageDataset(X_test_tensor, y_test_tensor)\n",
    "\n",
    "batch_size = 64\n",
    "train_loader = DataLoader(train_dataset, batch_size=batch_size, shuffle=True)\n",
    "val_loader = DataLoader(val_dataset, batch_size=batch_size, shuffle=False)\n",
    "test_loader = DataLoader(test_dataset, batch_size=batch_size, shuffle=False)"
   ]
  },
  {
   "cell_type": "markdown",
   "id": "d3cff302-f2f1-4e34-a928-a167a9214a17",
   "metadata": {},
   "source": [
    "**Define the Model**"
   ]
  },
  {
   "cell_type": "code",
   "execution_count": 8,
   "id": "2e5152d0-a26a-4cdf-bb8e-da6bee1d4a81",
   "metadata": {},
   "outputs": [],
   "source": [
    "class CassavaLeafCNN(nn.Module):\n",
    "    \n",
    "    def __init__(self, num_classes):\n",
    "        \n",
    "        super(CassavaLeafCNN, self).__init__()\n",
    "\n",
    "        # Convolutional Block 1\n",
    "        self.conv1 = nn.Conv2d(3, 32, kernel_size=3, padding=1)\n",
    "        self.bn1 = nn.BatchNorm2d(32)\n",
    "        self.relu = nn.ReLU()\n",
    "        self.pool = nn.MaxPool2d(kernel_size=2, stride=2)\n",
    "        self.dropout_conv1 = nn.Dropout(p=0.2)\n",
    "\n",
    "        # Convolutional Block 2\n",
    "        self.conv2 = nn.Conv2d(32, 64, kernel_size=3, padding=1)\n",
    "        self.bn2 = nn.BatchNorm2d(64)\n",
    "        self.dropout_conv2 = nn.Dropout(p=0.2)\n",
    "\n",
    "        # Convolutional Block 3\n",
    "        self.conv3 = nn.Conv2d(64, 128, kernel_size=3, padding=1)\n",
    "        self.bn3 = nn.BatchNorm2d(128)\n",
    "        self.dropout_conv3 = nn.Dropout(p=0.2)\n",
    "\n",
    "        # Fully Connected Layers\n",
    "        self.fc1 = nn.Linear(128 * 16 * 16, 256)\n",
    "        self.fc2 = nn.Linear(256, num_classes)\n",
    "\n",
    "    def forward(self, x):\n",
    "        x = self.pool(self.relu(self.bn1(self.conv1(x))))\n",
    "        x = self.dropout_conv1(x)\n",
    "        x = self.pool(self.relu(self.bn2(self.conv2(x))))\n",
    "        x = self.dropout_conv2(x)\n",
    "        x = self.pool(self.relu(self.bn3(self.conv3(x))))\n",
    "        x = self.dropout_conv3(x)\n",
    "        x = x.view(x.size(0), -1)\n",
    "        x = self.relu(self.fc1(x))\n",
    "        x = self.fc2(x)\n",
    "        return x\n",
    "    \n",
    "\n",
    "num_classes = len(np.unique(y)) # Number of output classes\n",
    "model = CassavaLeafCNN(num_classes)"
   ]
  },
  {
   "cell_type": "markdown",
   "id": "4f6ebc42-cd4b-4a2d-942c-a062ef8ee596",
   "metadata": {},
   "source": [
    "**Train the Model**"
   ]
  },
  {
   "cell_type": "code",
   "execution_count": 9,
   "id": "2cb68e42-5abc-4236-a682-2de3cc4ac4df",
   "metadata": {},
   "outputs": [
    {
     "name": "stdout",
     "output_type": "stream",
     "text": [
      "Epoch 1/50, Train Loss: 10.5228, Train Acc: 23.94%\n",
      "Epoch 2/50, Train Loss: 4.1246, Train Acc: 33.11%\n",
      "Epoch 3/50, Train Loss: 3.5004, Train Acc: 43.50%\n",
      "Epoch 4/50, Train Loss: 3.1382, Train Acc: 45.45%\n",
      "Epoch 5/50, Train Loss: 3.0541, Train Acc: 48.23%\n",
      "Epoch 6/50, Train Loss: 2.9046, Train Acc: 50.18%\n",
      "Epoch 7/50, Train Loss: 2.8043, Train Acc: 51.53%\n",
      "Epoch 8/50, Train Loss: 2.8080, Train Acc: 51.89%\n",
      "Epoch 9/50, Train Loss: 2.7375, Train Acc: 51.78%\n",
      "Epoch 10/50, Train Loss: 2.6302, Train Acc: 52.69%\n",
      "Epoch 11/50, Train Loss: 2.5607, Train Acc: 53.19%\n",
      "Epoch 12/50, Train Loss: 2.4763, Train Acc: 53.58%\n",
      "Epoch 13/50, Train Loss: 2.4912, Train Acc: 52.77%\n",
      "Epoch 14/50, Train Loss: 2.4307, Train Acc: 54.45%\n",
      "Epoch 15/50, Train Loss: 2.4084, Train Acc: 55.26%\n",
      "Epoch 16/50, Train Loss: 2.4539, Train Acc: 56.06%\n",
      "Epoch 17/50, Train Loss: 2.4524, Train Acc: 55.74%\n",
      "Epoch 18/50, Train Loss: 2.4923, Train Acc: 55.02%\n",
      "Early stopping triggered after 18 epochs\n"
     ]
    }
   ],
   "source": [
    "def train(model, train_loader, val_loader, num_epochs=50, learning_rate=0.01, patience=5, alpha=0.001):\n",
    "    device = torch.device(\"cuda\" if torch.cuda.is_available() else \"cpu\")\n",
    "    model.to(device)\n",
    "\n",
    "    criterion = nn.CrossEntropyLoss()\n",
    "    optimizer = optim.Adam(model.parameters(), lr=learning_rate)\n",
    "    scheduler = optim.lr_scheduler.ReduceLROnPlateau(\n",
    "        optimizer, mode='min', factor=0.5, patience=3, verbose=True\n",
    "    )\n",
    "\n",
    "    train_losses, val_losses = [], []\n",
    "    train_accs, val_accs = [], []\n",
    "\n",
    "    best_val_loss = float('inf')\n",
    "    best_model_state = None\n",
    "    no_improve_count = 0\n",
    "\n",
    "    for epoch in range(num_epochs):\n",
    "        model.train()\n",
    "        running_loss, correct, total = 0.0, 0, 0\n",
    "\n",
    "        for inputs, labels in train_loader:\n",
    "            inputs, labels = inputs.to(device), labels.to(device)\n",
    "\n",
    "            optimizer.zero_grad()\n",
    "            outputs = model(inputs)\n",
    "            loss_ce = criterion(outputs, labels)\n",
    "\n",
    "            # L1 regularization\n",
    "            l1_penalty = torch.tensor(0., requires_grad=True).to(device)\n",
    "            for name, param in model.named_parameters():\n",
    "                if \"weight\" in name and \"bn\" not in name:  # Exclude biases and BatchNorm parameters\n",
    "                    l1_penalty += torch.norm(param, p=1)\n",
    "\n",
    "            # Total loss\n",
    "            total_loss = loss_ce + alpha * l1_penalty\n",
    "\n",
    "            total_loss.backward()\n",
    "            \n",
    "            # Add gradient clipping\n",
    "            torch.nn.utils.clip_grad_norm_(model.parameters(), max_norm=1.0)\n",
    "            \n",
    "            optimizer.step()\n",
    "            \n",
    "\n",
    "            running_loss += total_loss.item()\n",
    "            _, predicted = outputs.max(1)\n",
    "            total += labels.size(0)\n",
    "            correct += predicted.eq(labels).sum().item()\n",
    "\n",
    "        train_losses.append(running_loss / len(train_loader))\n",
    "        train_accs.append(100. * correct / total)\n",
    "\n",
    "        model.eval()\n",
    "        val_loss, correct, total = 0.0, 0, 0\n",
    "\n",
    "        with torch.no_grad():\n",
    "            for inputs, labels in val_loader:\n",
    "                inputs, labels = inputs.to(device), labels.to(device)\n",
    "                outputs = model(inputs)\n",
    "                loss_ce = criterion(outputs, labels)\n",
    "\n",
    "                # L1 regularization in validation\n",
    "                l1_penalty = torch.tensor(0., requires_grad=False).to(device)\n",
    "                for name, param in model.named_parameters():\n",
    "                    if \"weight\" in name and \"bn\" not in name:  # Exclude biases and BatchNorm parameters\n",
    "                        l1_penalty += torch.norm(param, p=1)\n",
    "\n",
    "                total_loss = loss_ce + alpha * l1_penalty\n",
    "                val_loss += total_loss.item()\n",
    "\n",
    "                _, predicted = outputs.max(1)\n",
    "                total += labels.size(0)\n",
    "                correct += predicted.eq(labels).sum().item()\n",
    "\n",
    "        val_losses.append(val_loss / len(val_loader))\n",
    "        val_accs.append(100. * correct / total)\n",
    "        \n",
    "        # Learning rate scheduling\n",
    "        scheduler.step(val_loss)\n",
    "\n",
    "        print(f\"Epoch {epoch+1}/{num_epochs}, Train Loss: {train_losses[-1]:.4f}, Train Acc: {train_accs[-1]:.2f}%\")\n",
    "\n",
    "        # Early stopping mechanism\n",
    "        if val_losses[-1] < best_val_loss:\n",
    "            best_val_loss = val_losses[-1]\n",
    "            best_model_state = copy.deepcopy(model.state_dict())\n",
    "            # best_model_state = model.state_dict().copy()\n",
    "            no_improve_count = 0\n",
    "        else:\n",
    "            no_improve_count += 1\n",
    "\n",
    "        if no_improve_count >= patience:\n",
    "            print(f\"Early stopping triggered after {epoch+1} epochs\")\n",
    "            break\n",
    "\n",
    "    # Restore the best model\n",
    "    if best_model_state is not None:\n",
    "        model.load_state_dict(best_model_state)\n",
    "\n",
    "    return train_losses, val_losses, train_accs, val_accs\n",
    "\n",
    "\n",
    "train_losses, val_losses, train_accs, val_accs = train(model, train_loader, val_loader, num_epochs=50, learning_rate=0.001)"
   ]
  },
  {
   "cell_type": "markdown",
   "id": "e9136bf5-83c0-4cc4-a335-a56dedbb2a77",
   "metadata": {},
   "source": [
    "**Visualize Metrics**"
   ]
  },
  {
   "cell_type": "code",
   "execution_count": 10,
   "id": "c0b85477-b09d-4ad9-9a0b-20f2b3ae3422",
   "metadata": {},
   "outputs": [
    {
     "data": {
      "image/png": "[encoded data removed]",
      "text/plain": [
       "<Figure size 800x400 with 1 Axes>"
      ]
     },
     "metadata": {},
     "output_type": "display_data"
    }
   ],
   "source": [
    "def plot_loss(train_losses, val_losses):\n",
    "    \n",
    "    epochs = range(1, len(train_losses) + 1)\n",
    "\n",
    "    plt.figure(figsize=(8, 4))\n",
    "    plt.plot(epochs, train_losses, label='Train Loss')\n",
    "    plt.plot(epochs, val_losses, label='Validation Loss')\n",
    "    plt.xlabel('Epochs')\n",
    "    plt.ylabel('Loss')\n",
    "    plt.title('Loss Curve')\n",
    "    plt.legend()\n",
    "    plt.show()\n",
    "\n",
    "plot_loss(train_losses, val_losses)"
   ]
  },
  {
   "cell_type": "markdown",
   "id": "0e4a71b4-ae51-4bdc-a2e1-24dc9525b2b8",
   "metadata": {},
   "source": [
    "**Evaluate the Model**"
   ]
  },
  {
   "cell_type": "code",
   "execution_count": 11,
   "id": "a08939ab-137f-488b-bb38-97d26ac5d8b6",
   "metadata": {
    "tags": []
   },
   "outputs": [
    {
     "name": "stdout",
     "output_type": "stream",
     "text": [
      "Training Accuracy: 0.598\n",
      "Test Accuracy: 0.595\n",
      "F1 Score: 0.627\n",
      "Classification Report:\n",
      "              precision    recall  f1-score   support\n",
      "\n",
      "           0       0.28      0.64      0.39       212\n",
      "           1       0.32      0.35      0.33       424\n",
      "           2       0.24      0.41      0.30       437\n",
      "           3       0.90      0.69      0.78      2715\n",
      "           4       0.40      0.41      0.41       492\n",
      "\n",
      "    accuracy                           0.59      4280\n",
      "   macro avg       0.43      0.50      0.44      4280\n",
      "weighted avg       0.69      0.59      0.63      4280\n",
      "\n"
     ]
    }
   ],
   "source": [
    "def evaluate(model, loader):\n",
    "    \n",
    "    device = torch.device(\"cuda\" if torch.cuda.is_available() else \"cpu\")\n",
    "    model.eval()\n",
    "\n",
    "    all_preds, all_labels = [], []\n",
    "    with torch.no_grad():\n",
    "        for inputs, labels in loader:\n",
    "            inputs, labels = inputs.to(device), labels.to(device)\n",
    "            outputs = model(inputs)\n",
    "            _, predicted = outputs.max(1)\n",
    "            all_preds.extend(predicted.cpu().numpy())\n",
    "            all_labels.extend(labels.cpu().numpy())\n",
    "\n",
    "    return np.array(all_labels), np.array(all_preds)\n",
    "\n",
    "# Evaluate on train set\n",
    "y_train_true, y_train_pred = evaluate(model, train_loader)\n",
    "\n",
    "# Evaluate on test set\n",
    "y_test_true, y_test_pred = evaluate(model, test_loader)\n",
    "\n",
    "# Print metrics\n",
    "accuracy_train = accuracy_score(y_train_true, y_train_pred)\n",
    "accuracy_test = accuracy_score(y_test_true, y_test_pred)\n",
    "f1_test = f1_score(y_test_true, y_test_pred, average='weighted')\n",
    "\n",
    "print(f'Training Accuracy: {accuracy_train:.3f}')\n",
    "print(f'Test Accuracy: {accuracy_test:.3f}')\n",
    "print(f'F1 Score: {f1_test:.3f}')\n",
    "print(\"Classification Report:\")\n",
    "print(classification_report(y_test_true, y_test_pred, zero_division=0))"
   ]
  },
  {
   "cell_type": "code",
   "execution_count": null,
   "id": "0afe1fb0-b2cc-41a3-84a6-763d6dd182f1",
   "metadata": {},
   "outputs": [],
   "source": []
  }
 ],
 "metadata": {
  "kernelspec": {
   "display_name": "Python 3 (ipykernel)",
   "language": "python",
   "name": "python3"
  },
  "language_info": {
   "codemirror_mode": {
    "name": "ipython",
    "version": 3
   },
   "file_extension": ".py",
   "mimetype": "text/x-python",
   "name": "python",
   "nbconvert_exporter": "python",
   "pygments_lexer": "ipython3",
   "version": "3.11.7"
  }
 },
 "nbformat": 4,
 "nbformat_minor": 5
}
