{
 "cells": [
  {
   "cell_type": "markdown",
   "metadata": {},
   "source": [
    "**Import Libraries**"
   ]
  },
  {
   "cell_type": "code",
   "execution_count": 1,
   "metadata": {},
   "outputs": [],
   "source": [
    "import os\n",
    "import numpy as np\n",
    "import pandas as pd\n",
    "from PIL import Image\n",
    "\n",
    "from sklearn.model_selection import train_test_split\n",
    "from sklearn.preprocessing import LabelEncoder\n",
    "from sklearn.metrics import accuracy_score, classification_report, f1_score\n",
    "from sklearn.utils.class_weight import compute_class_weight\n",
    "\n",
    "import torch\n",
    "import torch.nn as nn\n",
    "from torch.utils.data import Dataset, DataLoader\n",
    "\n",
    "from scipy.special import softmax\n",
    "\n",
    "import matplotlib.pyplot as plt"
   ]
  },
  {
   "cell_type": "markdown",
   "metadata": {
    "id": "DfVHGz6X3jxV"
   },
   "source": [
    "**Load and Preprocess Data**"
   ]
  },
  {
   "cell_type": "code",
   "execution_count": 2,
   "metadata": {
    "executionInfo": {
     "elapsed": 12692,
     "status": "ok",
     "timestamp": 1735380932304,
     "user": {
      "displayName": "דור שיר",
      "userId": "02099856341624254319"
     },
     "user_tz": -120
    },
    "id": "IXJS4bcPy3sR",
    "tags": []
   },
   "outputs": [],
   "source": [
    "def load_images_from_csv(data_dir, csv_path, image_size=(50, 50), limit=None):\n",
    "    \"\"\"\n",
    "    data_dir:    Directory containing 'train_images' folder.\n",
    "    csv_path:    Path to the CSV file (with columns 'image_id', 'label').\n",
    "    image_size:  (height, width) to resize images.\n",
    "    limit:       If not None, limit to this many images (for debugging).\n",
    "    \n",
    "    Returns:\n",
    "      X: A NumPy array of shape (N, H*W*3) if flattened, or (N, 3, H, W) if not flattened.\n",
    "      y: A NumPy array of labels (N,).\n",
    "    \"\"\"\n",
    "    df = pd.read_csv(csv_path)\n",
    "    if limit is not None:\n",
    "        df = df.head(limit)\n",
    "\n",
    "    all_images = []\n",
    "    all_labels = []\n",
    "\n",
    "    for _, row in df.iterrows():\n",
    "        image_id = row['image_id']\n",
    "        label = row['label']\n",
    "\n",
    "        # Load image via PIL\n",
    "        img_path = os.path.join(data_dir, 'train_images', image_id)\n",
    "        with Image.open(img_path) as pil_img:\n",
    "            # Convert to RGB\n",
    "            pil_img = pil_img.convert('RGB')\n",
    "            \n",
    "            # Resize using PIL\n",
    "            pil_img = pil_img.resize(image_size, Image.BILINEAR)\n",
    "\n",
    "            # Convert to NumPy array\n",
    "            img_np = np.array(pil_img)  # shape: (H, W, 3)\n",
    "\n",
    "            # flatten image\n",
    "            img_np_flat = img_np.flatten()  # shape: (H*W*3,)\n",
    "\n",
    "            all_images.append(img_np_flat)\n",
    "            all_labels.append(label)\n",
    "\n",
    "    X = np.array(all_images)\n",
    "    y = np.array(all_labels)\n",
    "    return X, y\n",
    "\n",
    "data_dir = '.'\n",
    "csv_path = os.path.join(data_dir, 'train.csv')\n",
    "IMAGE_SIZE = (32, 32)\n",
    "\n",
    "X, y = load_images_from_csv(\n",
    "    data_dir=data_dir, \n",
    "    csv_path=csv_path, \n",
    "    image_size=IMAGE_SIZE, \n",
    ")"
   ]
  },
  {
   "cell_type": "markdown",
   "metadata": {
    "id": "o-VAbNxj4ESj"
   },
   "source": [
    "**Encode Labels**"
   ]
  },
  {
   "cell_type": "code",
   "execution_count": 3,
   "metadata": {
    "executionInfo": {
     "elapsed": 372,
     "status": "ok",
     "timestamp": 1735380976710,
     "user": {
      "displayName": "דור שיר",
      "userId": "02099856341624254319"
     },
     "user_tz": -120
    },
    "id": "mQ5SFmLW4D59",
    "tags": []
   },
   "outputs": [],
   "source": [
    "label_encoder = LabelEncoder()\n",
    "y_encoded = label_encoder.fit_transform(y)\n",
    "class_names = label_encoder.classes_\n",
    "\n",
    "# Normalize pixel values to [0, 1]\n",
    "X = X / 255.0"
   ]
  },
  {
   "cell_type": "markdown",
   "metadata": {
    "id": "5KEX0xNP3iAR"
   },
   "source": [
    "**Split Dataset**"
   ]
  },
  {
   "cell_type": "code",
   "execution_count": 4,
   "metadata": {
    "executionInfo": {
     "elapsed": 1408,
     "status": "ok",
     "timestamp": 1735380951801,
     "user": {
      "displayName": "דור שיר",
      "userId": "02099856341624254319"
     },
     "user_tz": -120
    },
    "id": "6q2NTJSB3uSa",
    "tags": []
   },
   "outputs": [],
   "source": [
    "# First split into train + (validation + test)\n",
    "X_train, X_temp, y_train, y_temp = train_test_split(X , y, test_size=0.4, random_state=42)\n",
    "\n",
    "# Then split (validation + test) into validation and test\n",
    "X_val, X_test, y_val, y_test = train_test_split(X_temp, y_temp, test_size=0.5, random_state=42)"
   ]
  },
  {
   "cell_type": "markdown",
   "metadata": {},
   "source": [
    "**Prepare Data for PyTorch**"
   ]
  },
  {
   "cell_type": "code",
   "execution_count": 5,
   "metadata": {},
   "outputs": [],
   "source": [
    "# Convert to tensors\n",
    "X_train_tensor = torch.tensor(X_train, dtype=torch.float32)\n",
    "y_train_tensor = torch.tensor(y_train, dtype=torch.long)\n",
    "\n",
    "X_val_tensor = torch.tensor(X_val, dtype=torch.float32)\n",
    "y_val_tensor = torch.tensor(y_val, dtype=torch.long)\n",
    "\n",
    "X_test_tensor = torch.tensor(X_test, dtype=torch.float32)\n",
    "y_test_tensor = torch.tensor(y_test, dtype=torch.long)\n",
    "\n",
    "class ImageDataset(Dataset):\n",
    "    def __init__(self, X, y):\n",
    "        self.X = X\n",
    "        self.y = y\n",
    "\n",
    "    def __len__(self):\n",
    "        return len(self.X)\n",
    "\n",
    "    def __getitem__(self, idx):\n",
    "        return self.X[idx], self.y[idx]\n",
    "\n",
    "train_dataset = ImageDataset(X_train_tensor, y_train_tensor)\n",
    "val_dataset = ImageDataset(X_val_tensor, y_val_tensor)\n",
    "test_dataset = ImageDataset(X_test_tensor, y_test_tensor)\n",
    "\n",
    "batch_size = 64\n",
    "train_loader = DataLoader(train_dataset, batch_size=batch_size, shuffle=True)\n",
    "val_loader = DataLoader(val_dataset, batch_size=batch_size, shuffle=False)\n",
    "test_loader = DataLoader(test_dataset, batch_size=batch_size, shuffle=False)"
   ]
  },
  {
   "cell_type": "markdown",
   "metadata": {
    "id": "eNa9PbRz3v5t"
   },
   "source": [
    "**Define the Model**"
   ]
  },
  {
   "cell_type": "code",
   "execution_count": 6,
   "metadata": {},
   "outputs": [],
   "source": [
    "class SoftmaxRegression(nn.Module):\n",
    "    def __init__(self, input_dim, output_dim):\n",
    "        \"\"\"\n",
    "        Initialize Softmax Regression with input and output dimensions.\n",
    "        Args:\n",
    "            input_dim (int): Number of input features.\n",
    "            output_dim (int): Number of output classes.\n",
    "        \"\"\"\n",
    "        super(SoftmaxRegression, self).__init__()\n",
    "        self.linear = nn.Linear(input_dim, output_dim)\n",
    "\n",
    "    def forward(self, x):\n",
    "        \"\"\"\n",
    "        Forward pass: compute logits.\n",
    "        Args:\n",
    "            x (Tensor): Input tensor of shape (batch_size, input_dim).\n",
    "        Returns:\n",
    "            Tensor: Logits of shape (batch_size, output_dim).\n",
    "        \"\"\"\n",
    "        logits = self.linear(x)  # Compute logits (raw scores)\n",
    "        return logits  # Return raw logits without softmax , softmax imply inside CrossEntropyLoss\n",
    "    \n",
    "    def predict(self, x):\n",
    "        \"\"\"\n",
    "        Predict class labels from input features.\n",
    "        Args:\n",
    "            x (Tensor): Input tensor of shape (batch_size, input_dim).\n",
    "        Returns:\n",
    "            Tensor: Predicted class labels of shape (batch_size).\n",
    "        \"\"\"\n",
    "        logits = self.forward(x)\n",
    "        return torch.argmax(logits, dim=1)  # Get the class with the highest logit\n",
    "\n",
    "    \n",
    "num_classes = len(class_names)\n",
    "# Model initialization\n",
    "input_dim = X_train_tensor.shape[1]  # Number of features\n",
    "output_dim = num_classes  # Number of classes\n",
    "model = SoftmaxRegression(input_dim, output_dim)"
   ]
  },
  {
   "cell_type": "markdown",
   "metadata": {
    "id": "jXj3VlJk4L-w"
   },
   "source": [
    "**Train the Model**"
   ]
  },
  {
   "cell_type": "code",
   "execution_count": 7,
   "metadata": {
    "id": "AapB-RkpDoye",
    "tags": []
   },
   "outputs": [
    {
     "name": "stdout",
     "output_type": "stream",
     "text": [
      "Epoch 1/50, Train Loss: 1.2075, Train Acc: 60.54%\n",
      "Epoch 2/50, Train Loss: 1.1930, Train Acc: 60.75%\n",
      "Epoch 3/50, Train Loss: 1.1875, Train Acc: 60.75%\n",
      "Epoch 4/50, Train Loss: 1.1842, Train Acc: 60.75%\n",
      "Epoch 5/50, Train Loss: 1.1811, Train Acc: 60.75%\n",
      "Epoch 6/50, Train Loss: 1.1779, Train Acc: 60.75%\n",
      "Epoch 7/50, Train Loss: 1.1763, Train Acc: 60.75%\n",
      "Epoch 8/50, Train Loss: 1.1733, Train Acc: 60.76%\n",
      "Epoch 9/50, Train Loss: 1.1715, Train Acc: 60.77%\n",
      "Epoch 10/50, Train Loss: 1.1699, Train Acc: 60.76%\n",
      "Epoch 11/50, Train Loss: 1.1684, Train Acc: 60.76%\n",
      "Epoch 12/50, Train Loss: 1.1666, Train Acc: 60.76%\n",
      "Epoch 13/50, Train Loss: 1.1650, Train Acc: 60.79%\n",
      "Epoch 14/50, Train Loss: 1.1637, Train Acc: 60.81%\n",
      "Epoch 15/50, Train Loss: 1.1627, Train Acc: 60.83%\n",
      "Epoch 16/50, Train Loss: 1.1610, Train Acc: 60.80%\n",
      "Epoch 17/50, Train Loss: 1.1603, Train Acc: 60.84%\n",
      "Epoch 18/50, Train Loss: 1.1578, Train Acc: 60.85%\n",
      "Epoch 19/50, Train Loss: 1.1571, Train Acc: 60.85%\n",
      "Epoch 20/50, Train Loss: 1.1565, Train Acc: 60.88%\n",
      "Epoch 21/50, Train Loss: 1.1555, Train Acc: 60.91%\n",
      "Epoch 22/50, Train Loss: 1.1540, Train Acc: 60.84%\n",
      "Epoch 23/50, Train Loss: 1.1535, Train Acc: 60.87%\n",
      "Epoch 24/50, Train Loss: 1.1525, Train Acc: 60.91%\n",
      "Epoch 25/50, Train Loss: 1.1514, Train Acc: 60.89%\n",
      "Epoch 26/50, Train Loss: 1.1508, Train Acc: 60.91%\n",
      "Epoch 27/50, Train Loss: 1.1499, Train Acc: 60.92%\n",
      "Epoch 28/50, Train Loss: 1.1483, Train Acc: 60.94%\n",
      "Epoch 29/50, Train Loss: 1.1476, Train Acc: 60.97%\n",
      "Epoch 30/50, Train Loss: 1.1471, Train Acc: 60.98%\n",
      "Epoch 31/50, Train Loss: 1.1465, Train Acc: 60.98%\n",
      "Epoch 32/50, Train Loss: 1.1452, Train Acc: 60.99%\n",
      "Epoch 33/50, Train Loss: 1.1444, Train Acc: 61.00%\n",
      "Epoch 34/50, Train Loss: 1.1442, Train Acc: 61.03%\n",
      "Epoch 35/50, Train Loss: 1.1428, Train Acc: 61.02%\n",
      "Epoch 36/50, Train Loss: 1.1416, Train Acc: 61.04%\n",
      "Epoch 37/50, Train Loss: 1.1411, Train Acc: 61.00%\n",
      "Epoch 38/50, Train Loss: 1.1411, Train Acc: 61.05%\n",
      "Epoch 39/50, Train Loss: 1.1391, Train Acc: 61.05%\n",
      "Epoch 40/50, Train Loss: 1.1388, Train Acc: 61.04%\n",
      "Epoch 41/50, Train Loss: 1.1382, Train Acc: 61.03%\n",
      "Epoch 42/50, Train Loss: 1.1374, Train Acc: 61.10%\n",
      "Epoch 43/50, Train Loss: 1.1369, Train Acc: 61.06%\n",
      "Epoch 44/50, Train Loss: 1.1362, Train Acc: 61.12%\n",
      "Epoch 45/50, Train Loss: 1.1352, Train Acc: 61.12%\n",
      "Epoch 46/50, Train Loss: 1.1338, Train Acc: 61.08%\n",
      "Epoch 47/50, Train Loss: 1.1346, Train Acc: 61.08%\n",
      "Epoch 48/50, Train Loss: 1.1334, Train Acc: 61.13%\n",
      "Epoch 49/50, Train Loss: 1.1328, Train Acc: 61.12%\n",
      "Epoch 50/50, Train Loss: 1.1328, Train Acc: 61.09%\n"
     ]
    }
   ],
   "source": [
    "def train(model, train_loader, val_loader, num_epochs=50, learning_rate=0.01):\n",
    "    \n",
    "    device = torch.device(\"cuda\" if torch.cuda.is_available() else \"cpu\")\n",
    "    model.to(device)\n",
    "\n",
    "    criterion = nn.CrossEntropyLoss()\n",
    "    \n",
    "    train_losses, val_losses = [], []\n",
    "    train_accs, val_accs = [], []\n",
    "    \n",
    "    for epoch in range(num_epochs):\n",
    "        model.train()\n",
    "        running_loss, correct, total = 0.0, 0, 0\n",
    "\n",
    "        for inputs, labels in train_loader:\n",
    "            inputs, labels = inputs.to(device), labels.to(device)\n",
    "\n",
    "            outputs = model(inputs)\n",
    "            loss_ce = criterion(outputs, labels)\n",
    "\n",
    "            # Total loss\n",
    "            total_loss = loss_ce\n",
    "            \n",
    "            # Zero gradients\n",
    "            model.zero_grad()\n",
    "\n",
    "             # Backward pass\n",
    "            total_loss.backward()  # Compute gradients\n",
    "\n",
    "            # Manually update parameters\n",
    "            with torch.no_grad():\n",
    "                for param in model.parameters():\n",
    "                    param -= learning_rate * param.grad.detach()  # Gradient descent step\n",
    "\n",
    "            # Track training loss and accuracy\n",
    "            running_loss += total_loss.item()\n",
    "            _, predicted = torch.max(outputs, 1)\n",
    "            total += labels.size(0)\n",
    "            correct += (predicted == labels).sum().item()\n",
    "\n",
    "        avg_train_loss = running_loss / len(train_loader)\n",
    "        train_acc = correct / total\n",
    "        train_losses.append(avg_train_loss)\n",
    "        train_accs.append(train_acc)\n",
    "\n",
    "        # Validation phase\n",
    "        model.eval()\n",
    "        val_loss, correct, total = 0.0, 0, 0\n",
    "        with torch.no_grad():\n",
    "            for inputs, labels in val_loader:\n",
    "                inputs, labels = inputs.to(device), labels.to(device)\n",
    "                outputs = model(inputs)\n",
    "                loss_ce = criterion(outputs, labels)\n",
    "                val_loss += loss_ce.item()\n",
    "                _, predicted = torch.max(outputs, 1)\n",
    "                total += labels.size(0)\n",
    "                correct += (predicted == labels).sum().item()\n",
    "\n",
    "        avg_val_loss = val_loss / len(val_loader)\n",
    "        val_acc = correct / total\n",
    "        val_losses.append(avg_val_loss)\n",
    "        val_accs.append(val_acc)\n",
    "\n",
    "        print(f\"Epoch {epoch+1}/{num_epochs}, Train Loss: {avg_train_loss:.4f}, Train Acc: {train_acc:.2%}\")\n",
    "\n",
    "    return train_losses, val_losses, train_accs, val_accs\n",
    "\n",
    "\n",
    "train_losses, val_losses, train_accs, val_accs = train(model, train_loader, val_loader, learning_rate=0.001)"
   ]
  },
  {
   "cell_type": "markdown",
   "metadata": {},
   "source": [
    "**Visualize Metrics**"
   ]
  },
  {
   "cell_type": "code",
   "execution_count": 8,
   "metadata": {},
   "outputs": [
    {
     "data": {
      "image/png": "[encoded data removed]",
      "text/plain": [
       "<Figure size 800x400 with 1 Axes>"
      ]
     },
     "metadata": {},
     "output_type": "display_data"
    }
   ],
   "source": [
    "def plot_loss(train_losses, val_losses):\n",
    "    epochs = range(1, len(train_losses) + 1)\n",
    "\n",
    "    plt.figure(figsize=(8, 4))\n",
    "    plt.plot(epochs, train_losses, label='Train Loss')\n",
    "    plt.plot(epochs, val_losses, label='Validation Loss')\n",
    "    plt.xlabel('Epochs')\n",
    "    plt.ylabel('Loss')\n",
    "    plt.title('Loss Curve')\n",
    "    plt.legend()\n",
    "    plt.show()\n",
    "\n",
    "plot_loss(train_losses, val_losses)"
   ]
  },
  {
   "cell_type": "markdown",
   "metadata": {
    "id": "CRSsBiCSDwqK"
   },
   "source": [
    "**Evaluate Model**"
   ]
  },
  {
   "cell_type": "code",
   "execution_count": 9,
   "metadata": {
    "colab": {
     "base_uri": "https://localhost:8080/"
    },
    "executionInfo": {
     "elapsed": 444,
     "status": "ok",
     "timestamp": 1733260702950,
     "user": {
      "displayName": "דור שיר",
      "userId": "02099856341624254319"
     },
     "user_tz": -120
    },
    "id": "-dfZERpmDwAb",
    "outputId": "a0533642-a40e-4d57-bc91-366cdacb1ccf",
    "tags": []
   },
   "outputs": [
    {
     "name": "stdout",
     "output_type": "stream",
     "text": [
      "Training Accuracy: 0.613\n",
      "Test Accuracy: 0.636\n",
      "F1 Score: 0.503\n",
      "Classification Report:\n",
      "              precision    recall  f1-score   support\n",
      "\n",
      "           0       0.00      0.00      0.00       212\n",
      "           1       0.36      0.05      0.09       424\n",
      "           2       0.00      0.00      0.00       437\n",
      "           3       0.64      1.00      0.78      2715\n",
      "           4       0.00      0.00      0.00       492\n",
      "\n",
      "    accuracy                           0.64      4280\n",
      "   macro avg       0.20      0.21      0.17      4280\n",
      "weighted avg       0.44      0.64      0.50      4280\n",
      "\n"
     ]
    }
   ],
   "source": [
    "def evaluate(model, loader):\n",
    "    device = torch.device(\"cuda\" if torch.cuda.is_available() else \"cpu\")\n",
    "    model.eval()\n",
    "\n",
    "    all_preds, all_labels = [], []\n",
    "    with torch.no_grad():\n",
    "        for inputs, labels in loader:\n",
    "            inputs, labels = inputs.to(device), labels.to(device)\n",
    "            outputs = model(inputs)\n",
    "            _, predicted = outputs.max(1)\n",
    "            all_preds.extend(predicted.cpu().numpy())\n",
    "            all_labels.extend(labels.cpu().numpy())\n",
    "\n",
    "    return np.array(all_labels), np.array(all_preds)\n",
    "\n",
    "# Convert class_names to strings\n",
    "class_names = [str(name) for name in label_encoder.classes_]\n",
    "\n",
    "# Evaluate on train set\n",
    "y_train_true, y_train_pred = evaluate(model, train_loader)\n",
    "\n",
    "# Evaluate on test set\n",
    "y_test_true, y_test_pred = evaluate(model, test_loader)\n",
    "\n",
    "# Print metrics\n",
    "accuracy_train = accuracy_score(y_train_true, y_train_pred)\n",
    "accuracy_test = accuracy_score(y_test_true, y_test_pred)\n",
    "f1_test = f1_score(y_test_true, y_test_pred, average='weighted')\n",
    "\n",
    "print(f'Training Accuracy: {accuracy_train:.3f}')\n",
    "print(f'Test Accuracy: {accuracy_test:.3f}')\n",
    "print(f'F1 Score: {f1_test:.3f}')\n",
    "print(\"Classification Report:\")\n",
    "print(classification_report(y_test_true, y_test_pred, target_names=class_names, zero_division=0))"
   ]
  },
  {
   "cell_type": "code",
   "execution_count": null,
   "metadata": {},
   "outputs": [],
   "source": []
  }
 ],
 "metadata": {
  "colab": {
   "provenance": [
    {
     "file_id": "1DYXXBcajFxgr3UOi_BCH5pdMTdkjhSEL",
     "timestamp": 1733258291975
    }
   ]
  },
  "kernelspec": {
   "display_name": "Python 3 (ipykernel)",
   "language": "python",
   "name": "python3"
  },
  "language_info": {
   "codemirror_mode": {
    "name": "ipython",
    "version": 3
   },
   "file_extension": ".py",
   "mimetype": "text/x-python",
   "name": "python",
   "nbconvert_exporter": "python",
   "pygments_lexer": "ipython3",
   "version": "3.11.7"
  }
 },
 "nbformat": 4,
 "nbformat_minor": 4
}
