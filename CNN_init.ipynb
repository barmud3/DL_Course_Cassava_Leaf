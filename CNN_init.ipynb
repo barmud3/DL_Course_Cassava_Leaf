{
 "cells": [
  {
   "cell_type": "markdown",
   "id": "7dd1857d-14dd-467f-be91-54afd661b511",
   "metadata": {},
   "source": [
    "**Import Libraries**"
   ]
  },
  {
   "cell_type": "code",
   "execution_count": 1,
   "id": "0bde4422-bf55-4b91-b6b9-757560eee8b2",
   "metadata": {},
   "outputs": [],
   "source": [
    "import os\n",
    "import numpy as np\n",
    "import pandas as pd\n",
    "from PIL import Image\n",
    "\n",
    "from sklearn.model_selection import train_test_split\n",
    "from sklearn.preprocessing import LabelEncoder\n",
    "from sklearn.metrics import accuracy_score, classification_report, f1_score\n",
    "from sklearn.utils.class_weight import compute_class_weight\n",
    "\n",
    "import torch\n",
    "import torch.nn as nn\n",
    "from torch.utils.data import Dataset, DataLoader\n",
    "\n",
    "import matplotlib.pyplot as plt"
   ]
  },
  {
   "cell_type": "markdown",
   "id": "96fe0862-15c6-419d-9120-a20a9364f435",
   "metadata": {},
   "source": [
    "**Load and Preprocess Data**"
   ]
  },
  {
   "cell_type": "code",
   "execution_count": 2,
   "id": "6f2d7596-d0ca-4edb-a2fd-be72ad3a09ef",
   "metadata": {},
   "outputs": [
    {
     "name": "stdout",
     "output_type": "stream",
     "text": [
      "Class distribution (number of samples per class):\n",
      "  Class '3': 13158 samples\n",
      "  Class '4': 2577 samples\n",
      "  Class '2': 2386 samples\n",
      "  Class '1': 2189 samples\n",
      "  Class '0': 1087 samples\n"
     ]
    }
   ],
   "source": [
    "def load_images_from_csv(data_dir, csv_path, image_size=(50, 50), limit=None):\n",
    "    df = pd.read_csv(csv_path)\n",
    "    if limit is not None:\n",
    "        df = df.head(limit)\n",
    "\n",
    "    all_images = []\n",
    "    all_labels = []\n",
    "\n",
    "    for _, row in df.iterrows():\n",
    "        image_id = row['image_id']\n",
    "        label = row['label']\n",
    "\n",
    "        img_path = os.path.join(data_dir, 'train_images', image_id)\n",
    "        with Image.open(img_path) as pil_img:\n",
    "            pil_img = pil_img.convert('RGB')\n",
    "            pil_img = pil_img.resize(image_size, Image.BILINEAR)\n",
    "\n",
    "            img_np = np.array(pil_img)\n",
    "            all_images.append(img_np)\n",
    "            all_labels.append(label)\n",
    "\n",
    "    X = np.array(all_images)\n",
    "    y = np.array(all_labels)\n",
    "\n",
    "    class_counts = pd.Series(y).value_counts()\n",
    "    \n",
    "    print(\"Class distribution (number of samples per class):\")\n",
    "    for label, count in class_counts.items():\n",
    "        print(f\"  Class '{label}': {count} samples\")\n",
    "\n",
    "    return X, y\n",
    "\n",
    "# Set paths and parameters\n",
    "data_dir = '.'\n",
    "csv_path = os.path.join(data_dir, 'train.csv')\n",
    "IMAGE_SIZE = (32, 32)\n",
    "\n",
    "# Load data\n",
    "X, y = load_images_from_csv(data_dir=data_dir, csv_path=csv_path, image_size=IMAGE_SIZE)"
   ]
  },
  {
   "cell_type": "markdown",
   "id": "10c0ff0b-c339-4b10-a419-e8e73daa3a61",
   "metadata": {},
   "source": [
    "**Encode Labels**"
   ]
  },
  {
   "cell_type": "code",
   "execution_count": 3,
   "id": "10467b51-0ffb-4d1b-ba9d-81765795bbf1",
   "metadata": {
    "tags": []
   },
   "outputs": [],
   "source": [
    "label_encoder = LabelEncoder()\n",
    "y_encoded = label_encoder.fit_transform(y)\n",
    "class_names = label_encoder.classes_\n",
    "\n",
    "# Normalize pixel values to [0, 1]\n",
    "X = X / 255.0"
   ]
  },
  {
   "cell_type": "markdown",
   "id": "d703d1e2-2b6e-4a77-9f61-331c37f8c0c7",
   "metadata": {
    "tags": []
   },
   "source": [
    "**Split Data**"
   ]
  },
  {
   "cell_type": "code",
   "execution_count": 4,
   "id": "c4b4a643-e7f2-42c6-98f7-c433ff70ea9e",
   "metadata": {},
   "outputs": [],
   "source": [
    "# First split into train + (validation + test)\n",
    "X_train, X_temp, y_train, y_temp = train_test_split(X, y_encoded, test_size=0.4, random_state=42)\n",
    "\n",
    "# Then split (validation + test) into validation and test\n",
    "X_val, X_test, y_val, y_test = train_test_split(X_temp, y_temp, test_size=0.5, random_state=42) "
   ]
  },
  {
   "cell_type": "markdown",
   "id": "32d799a7-0f81-40bb-8541-107772ea0350",
   "metadata": {},
   "source": [
    "**Compute Class Weights**"
   ]
  },
  {
   "cell_type": "code",
   "execution_count": 5,
   "id": "5711a005-4848-4d96-80a0-4a8aadba2a2a",
   "metadata": {},
   "outputs": [
    {
     "name": "stdout",
     "output_type": "stream",
     "text": [
      "Class weights: tensor([3.8962, 1.9161, 1.7396, 0.3292, 1.6417], device='cuda:0')\n"
     ]
    }
   ],
   "source": [
    "class_weights = compute_class_weight('balanced', classes=np.unique(y_train), y=y_train)\n",
    "class_weights = torch.tensor(class_weights, dtype=torch.float).to('cuda' if torch.cuda.is_available() else 'cpu')\n",
    "\n",
    "print(\"Class weights:\", class_weights)"
   ]
  },
  {
   "cell_type": "markdown",
   "id": "a5131748-5ddd-4b7e-be2a-6ed73fdc78c7",
   "metadata": {},
   "source": [
    "**Prepare Data for PyTorch**"
   ]
  },
  {
   "cell_type": "code",
   "execution_count": 6,
   "id": "9ffc4200-2a89-4e1c-936b-d4239c92dc58",
   "metadata": {},
   "outputs": [],
   "source": [
    "# Transpose axes for PyTorch\n",
    "X_train = np.transpose(X_train, (0, 3, 1, 2))\n",
    "X_val = np.transpose(X_val, (0, 3, 1, 2))\n",
    "X_test = np.transpose(X_test, (0, 3, 1, 2))\n",
    "\n",
    "# Convert to tensors\n",
    "X_train_tensor = torch.tensor(X_train, dtype=torch.float32)\n",
    "y_train_tensor = torch.tensor(y_train, dtype=torch.long)\n",
    "\n",
    "X_val_tensor = torch.tensor(X_val, dtype=torch.float32)\n",
    "y_val_tensor = torch.tensor(y_val, dtype=torch.long)\n",
    "\n",
    "X_test_tensor = torch.tensor(X_test, dtype=torch.float32)\n",
    "y_test_tensor = torch.tensor(y_test, dtype=torch.long)\n",
    "\n",
    "class ImageDataset(Dataset):\n",
    "    \n",
    "    def __init__(self, X, y):\n",
    "        self.X = X\n",
    "        self.y = y\n",
    "\n",
    "    def __len__(self):\n",
    "        return len(self.X)\n",
    "\n",
    "    def __getitem__(self, idx):\n",
    "        return self.X[idx], self.y[idx]\n",
    "\n",
    "train_dataset = ImageDataset(X_train_tensor, y_train_tensor)\n",
    "val_dataset = ImageDataset(X_val_tensor, y_val_tensor)\n",
    "test_dataset = ImageDataset(X_test_tensor, y_test_tensor)\n",
    "\n",
    "batch_size = 64\n",
    "train_loader = DataLoader(train_dataset, batch_size=batch_size, shuffle=True)\n",
    "val_loader = DataLoader(val_dataset, batch_size=batch_size, shuffle=False)\n",
    "test_loader = DataLoader(test_dataset, batch_size=batch_size, shuffle=False)"
   ]
  },
  {
   "cell_type": "markdown",
   "id": "9988d861-330b-4450-b677-1da86bcd6815",
   "metadata": {},
   "source": [
    "**Define the Model**"
   ]
  },
  {
   "cell_type": "code",
   "execution_count": 7,
   "id": "dd272816-3062-435a-b01d-ef30f83eac28",
   "metadata": {},
   "outputs": [],
   "source": [
    "class SimpleCNN(nn.Module):\n",
    "    \n",
    "    def __init__(self, num_classes):\n",
    "        super(SimpleCNN, self).__init__()\n",
    "        self.conv1 = nn.Conv2d(in_channels=3, out_channels=32, kernel_size=3, padding=1)\n",
    "        self.relu = nn.ReLU()\n",
    "        self.pool = nn.MaxPool2d(kernel_size=2, stride=2)\n",
    "        self.conv2 = nn.Conv2d(in_channels=32, out_channels=64, kernel_size=3, padding=1)\n",
    "        self.fc1 = nn.Linear(64 * 8 * 8, 128)\n",
    "        self.fc2 = nn.Linear(128, num_classes)\n",
    "\n",
    "    def forward(self, x):\n",
    "        x = self.conv1(x)\n",
    "        x = self.relu(x)\n",
    "        x = self.pool(x)\n",
    "        x = self.conv2(x)\n",
    "        x = self.relu(x)\n",
    "        x = self.pool(x)\n",
    "        x = x.view(x.size(0), -1)\n",
    "        x = self.fc1(x)\n",
    "        x = self.relu(x)\n",
    "        x = self.fc2(x)\n",
    "        return x\n",
    "\n",
    "\n",
    "num_classes = len(class_names)\n",
    "model = SimpleCNN(num_classes)"
   ]
  },
  {
   "cell_type": "markdown",
   "id": "5f750315-9bac-41ef-ac77-830a411b6f8e",
   "metadata": {},
   "source": [
    "**Train the Model**"
   ]
  },
  {
   "cell_type": "code",
   "execution_count": 8,
   "id": "9eae36fe-5e44-4c9b-9999-f6547026ce99",
   "metadata": {},
   "outputs": [
    {
     "name": "stdout",
     "output_type": "stream",
     "text": [
      "Epoch 1/50, Train Loss: 1.6103, Train Acc: 10.61%\n",
      "Epoch 2/50, Train Loss: 1.6092, Train Acc: 16.39%\n",
      "Epoch 3/50, Train Loss: 1.6082, Train Acc: 36.28%\n",
      "Epoch 4/50, Train Loss: 1.6077, Train Acc: 50.14%\n",
      "Epoch 5/50, Train Loss: 1.6074, Train Acc: 51.49%\n",
      "Epoch 6/50, Train Loss: 1.6071, Train Acc: 56.75%\n",
      "Epoch 7/50, Train Loss: 1.6067, Train Acc: 55.23%\n",
      "Epoch 8/50, Train Loss: 1.6065, Train Acc: 55.01%\n",
      "Epoch 9/50, Train Loss: 1.6061, Train Acc: 51.83%\n",
      "Epoch 10/50, Train Loss: 1.6059, Train Acc: 53.44%\n",
      "Epoch 11/50, Train Loss: 1.6054, Train Acc: 54.20%\n",
      "Epoch 12/50, Train Loss: 1.6051, Train Acc: 49.59%\n",
      "Epoch 13/50, Train Loss: 1.6049, Train Acc: 45.80%\n",
      "Epoch 14/50, Train Loss: 1.6046, Train Acc: 48.26%\n",
      "Epoch 15/50, Train Loss: 1.6042, Train Acc: 52.41%\n",
      "Epoch 16/50, Train Loss: 1.6041, Train Acc: 42.81%\n",
      "Epoch 17/50, Train Loss: 1.6037, Train Acc: 48.09%\n",
      "Epoch 18/50, Train Loss: 1.6034, Train Acc: 46.43%\n",
      "Epoch 19/50, Train Loss: 1.6029, Train Acc: 47.92%\n",
      "Epoch 20/50, Train Loss: 1.6027, Train Acc: 48.65%\n",
      "Epoch 21/50, Train Loss: 1.6021, Train Acc: 45.61%\n",
      "Epoch 22/50, Train Loss: 1.6018, Train Acc: 46.98%\n",
      "Epoch 23/50, Train Loss: 1.6013, Train Acc: 45.96%\n",
      "Epoch 24/50, Train Loss: 1.6007, Train Acc: 46.11%\n",
      "Epoch 25/50, Train Loss: 1.6002, Train Acc: 39.66%\n",
      "Epoch 26/50, Train Loss: 1.5996, Train Acc: 45.15%\n",
      "Epoch 27/50, Train Loss: 1.5991, Train Acc: 42.72%\n",
      "Epoch 28/50, Train Loss: 1.5986, Train Acc: 40.93%\n",
      "Epoch 29/50, Train Loss: 1.5980, Train Acc: 39.36%\n",
      "Epoch 30/50, Train Loss: 1.5974, Train Acc: 37.97%\n",
      "Epoch 31/50, Train Loss: 1.5966, Train Acc: 39.22%\n",
      "Epoch 32/50, Train Loss: 1.5960, Train Acc: 40.08%\n",
      "Epoch 33/50, Train Loss: 1.5954, Train Acc: 39.56%\n",
      "Epoch 34/50, Train Loss: 1.5946, Train Acc: 34.49%\n",
      "Epoch 35/50, Train Loss: 1.5937, Train Acc: 38.07%\n",
      "Epoch 36/50, Train Loss: 1.5929, Train Acc: 33.74%\n",
      "Epoch 37/50, Train Loss: 1.5918, Train Acc: 35.61%\n",
      "Epoch 38/50, Train Loss: 1.5909, Train Acc: 34.48%\n",
      "Epoch 39/50, Train Loss: 1.5901, Train Acc: 34.59%\n",
      "Epoch 40/50, Train Loss: 1.5887, Train Acc: 33.67%\n",
      "Epoch 41/50, Train Loss: 1.5877, Train Acc: 31.13%\n",
      "Epoch 42/50, Train Loss: 1.5866, Train Acc: 33.05%\n",
      "Epoch 43/50, Train Loss: 1.5853, Train Acc: 31.45%\n",
      "Epoch 44/50, Train Loss: 1.5841, Train Acc: 30.64%\n",
      "Epoch 45/50, Train Loss: 1.5829, Train Acc: 30.94%\n",
      "Epoch 46/50, Train Loss: 1.5813, Train Acc: 28.51%\n",
      "Epoch 47/50, Train Loss: 1.5800, Train Acc: 28.88%\n",
      "Epoch 48/50, Train Loss: 1.5787, Train Acc: 29.37%\n",
      "Epoch 49/50, Train Loss: 1.5769, Train Acc: 29.73%\n",
      "Epoch 50/50, Train Loss: 1.5757, Train Acc: 28.49%\n"
     ]
    }
   ],
   "source": [
    "def train(model, train_loader, val_loader, num_epochs=50, learning_rate=0.01):\n",
    "    \n",
    "    device = torch.device(\"cuda\" if torch.cuda.is_available() else \"cpu\")\n",
    "    model.to(device)\n",
    "\n",
    "    criterion = nn.CrossEntropyLoss(weight=class_weights)\n",
    "    \n",
    "    train_losses, val_losses = [], []\n",
    "    train_accs, val_accs = [], []\n",
    "    \n",
    "    for epoch in range(num_epochs):\n",
    "        model.train()\n",
    "        running_loss, correct, total = 0.0, 0, 0\n",
    "\n",
    "        for inputs, labels in train_loader:\n",
    "            inputs, labels = inputs.to(device), labels.to(device)\n",
    "\n",
    "            outputs = model(inputs)\n",
    "            loss_ce = criterion(outputs, labels)\n",
    "\n",
    "            # Total loss\n",
    "            total_loss = loss_ce\n",
    "            \n",
    "            # Zero gradients\n",
    "            model.zero_grad()\n",
    "\n",
    "            # Backward pass\n",
    "            total_loss.backward()  # Compute gradients\n",
    "\n",
    "            # Manually update parameters\n",
    "            with torch.no_grad():\n",
    "                for param in model.parameters():\n",
    "                    param -= learning_rate * param.grad.detach()  # Gradient descent step\n",
    "\n",
    "            # Track training loss and accuracy\n",
    "            running_loss += total_loss.item()\n",
    "            _, predicted = torch.max(outputs, 1)\n",
    "            total += labels.size(0)\n",
    "            correct += (predicted == labels).sum().item()\n",
    "\n",
    "        avg_train_loss = running_loss / len(train_loader)\n",
    "        train_acc = correct / total\n",
    "        train_losses.append(avg_train_loss)\n",
    "        train_accs.append(train_acc)\n",
    "\n",
    "        # Validation phase\n",
    "        model.eval()\n",
    "        val_loss, correct, total = 0.0, 0, 0\n",
    "        with torch.no_grad():\n",
    "            for inputs, labels in val_loader:\n",
    "                inputs, labels = inputs.to(device), labels.to(device)\n",
    "                outputs = model(inputs)\n",
    "                loss_ce = criterion(outputs, labels)\n",
    "                val_loss += loss_ce.item()\n",
    "                _, predicted = torch.max(outputs, 1)\n",
    "                total += labels.size(0)\n",
    "                correct += (predicted == labels).sum().item()\n",
    "\n",
    "        avg_val_loss = val_loss / len(val_loader)\n",
    "        val_acc = correct / total\n",
    "        val_losses.append(avg_val_loss)\n",
    "        val_accs.append(val_acc)\n",
    "\n",
    "        print(f\"Epoch {epoch+1}/{num_epochs}, Train Loss: {avg_train_loss:.4f}, Train Acc: {train_acc:.2%}\")\n",
    "\n",
    "    return train_losses, val_losses, train_accs, val_accs\n",
    "\n",
    "\n",
    "train_losses, val_losses, train_accs, val_accs = train(model, train_loader, val_loader, learning_rate=0.001)"
   ]
  },
  {
   "cell_type": "markdown",
   "id": "cf20bf39-7e74-449d-bb0d-ad05e6973369",
   "metadata": {},
   "source": [
    "**Visualize Metrics**"
   ]
  },
  {
   "cell_type": "code",
   "execution_count": 9,
   "id": "c559b69c-27cb-4aec-b6ca-d531fa3d2908",
   "metadata": {},
   "outputs": [
    {
     "data": {
      "image/png": "[encoded data removed]",
      "text/plain": [
       "<Figure size 800x400 with 1 Axes>"
      ]
     },
     "metadata": {},
     "output_type": "display_data"
    }
   ],
   "source": [
    "def plot_loss(train_losses, val_losses):\n",
    "    \n",
    "    epochs = range(1, len(train_losses) + 1)\n",
    "\n",
    "    plt.figure(figsize=(8, 4))\n",
    "    plt.plot(epochs, train_losses, label='Train Loss')\n",
    "    plt.plot(epochs, val_losses, label='Validation Loss')\n",
    "    plt.xlabel('Epochs')\n",
    "    plt.ylabel('Loss')\n",
    "    plt.title('Loss Curve')\n",
    "    plt.legend()\n",
    "    plt.show()\n",
    "\n",
    "plot_loss(train_losses, val_losses)"
   ]
  },
  {
   "cell_type": "markdown",
   "id": "0d3982a2-d463-4e55-b152-92cc8bdc4d90",
   "metadata": {},
   "source": [
    "**Evaluate the Model**"
   ]
  },
  {
   "cell_type": "code",
   "execution_count": 10,
   "id": "e67d3194-f228-46d3-9292-9190e3073a2f",
   "metadata": {
    "tags": []
   },
   "outputs": [
    {
     "name": "stdout",
     "output_type": "stream",
     "text": [
      "Training Accuracy: 0.297\n",
      "Test Accuracy: 0.312\n",
      "F1 Score: 0.357\n",
      "Classification Report:\n",
      "              precision    recall  f1-score   support\n",
      "\n",
      "           0       0.09      0.44      0.15       212\n",
      "           1       0.14      0.13      0.14       424\n",
      "           2       0.15      0.46      0.23       437\n",
      "           3       0.73      0.34      0.47      2715\n",
      "           4       0.18      0.10      0.13       492\n",
      "\n",
      "    accuracy                           0.31      4280\n",
      "   macro avg       0.26      0.30      0.22      4280\n",
      "weighted avg       0.52      0.31      0.36      4280\n",
      "\n"
     ]
    }
   ],
   "source": [
    "def evaluate(model, loader):\n",
    "    \n",
    "    device = torch.device(\"cuda\" if torch.cuda.is_available() else \"cpu\")\n",
    "    model.eval()\n",
    "\n",
    "    all_preds, all_labels = [], []\n",
    "    with torch.no_grad():\n",
    "        for inputs, labels in loader:\n",
    "            inputs, labels = inputs.to(device), labels.to(device)\n",
    "            outputs = model(inputs)\n",
    "            _, predicted = outputs.max(1)\n",
    "            all_preds.extend(predicted.cpu().numpy())\n",
    "            all_labels.extend(labels.cpu().numpy())\n",
    "\n",
    "    return np.array(all_labels), np.array(all_preds)\n",
    "\n",
    "# Convert class_names to strings\n",
    "class_names = [str(name) for name in label_encoder.classes_]\n",
    "\n",
    "# Evaluate on train set\n",
    "y_train_true, y_train_pred = evaluate(model, train_loader)\n",
    "\n",
    "# Evaluate on test set\n",
    "y_test_true, y_test_pred = evaluate(model, test_loader)\n",
    "\n",
    "# Print metrics\n",
    "accuracy_train = accuracy_score(y_train_true, y_train_pred)\n",
    "accuracy_test = accuracy_score(y_test_true, y_test_pred)\n",
    "f1_test = f1_score(y_test_true, y_test_pred, average='weighted')\n",
    "\n",
    "print(f'Training Accuracy: {accuracy_train:.3f}')\n",
    "print(f'Test Accuracy: {accuracy_test:.3f}')\n",
    "print(f'F1 Score: {f1_test:.3f}')\n",
    "print(\"Classification Report:\")\n",
    "print(classification_report(y_test_true, y_test_pred, target_names=class_names, zero_division=0))"
   ]
  },
  {
   "cell_type": "code",
   "execution_count": null,
   "id": "3b20f47f-11aa-4e95-aec4-201709b1475a",
   "metadata": {},
   "outputs": [],
   "source": []
  }
 ],
 "metadata": {
  "kernelspec": {
   "display_name": "Python 3 (ipykernel)",
   "language": "python",
   "name": "python3"
  },
  "language_info": {
   "codemirror_mode": {
    "name": "ipython",
    "version": 3
   },
   "file_extension": ".py",
   "mimetype": "text/x-python",
   "name": "python",
   "nbconvert_exporter": "python",
   "pygments_lexer": "ipython3",
   "version": "3.11.7"
  }
 },
 "nbformat": 4,
 "nbformat_minor": 5
}
